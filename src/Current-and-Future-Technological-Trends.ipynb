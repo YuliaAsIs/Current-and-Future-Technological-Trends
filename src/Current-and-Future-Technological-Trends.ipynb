{
 "cells": [
  {
   "cell_type": "markdown",
   "metadata": {},
   "source": [
    "<h1 style=\"text-align:center\">\n",
    "    Current and Future Technological Trends\n",
    "</h1>"
   ]
  },
  {
   "cell_type": "markdown",
   "metadata": {},
   "source": [
    "## Objectives\n"
   ]
  },
  {
   "cell_type": "markdown",
   "metadata": {},
   "source": [
    "In this project you will perform the following:"
   ]
  },
  {
   "cell_type": "markdown",
   "metadata": {},
   "source": [
    "Analyze the data and obtain valuable insights into current and future technological trends using the latest Stack Overflow Developer Survey dataset. These insights will play a key role in guiding strategic business decisions."
   ]
  },
  {
   "cell_type": "markdown",
   "metadata": {},
   "source": [
    "## Prepare environment\n",
    "**Install the libraries**\n"
   ]
  },
  {
   "cell_type": "code",
   "execution_count": 1,
   "metadata": {},
   "outputs": [
    {
     "name": "stdout",
     "output_type": "stream",
     "text": [
      "Requirement already satisfied: pandas in /opt/conda/lib/python3.12/site-packages (2.3.0)\n",
      "Requirement already satisfied: numpy>=1.26.0 in /opt/conda/lib/python3.12/site-packages (from pandas) (2.3.0)\n",
      "Requirement already satisfied: python-dateutil>=2.8.2 in /opt/conda/lib/python3.12/site-packages (from pandas) (2.9.0.post0)\n",
      "Requirement already satisfied: pytz>=2020.1 in /opt/conda/lib/python3.12/site-packages (from pandas) (2024.2)\n",
      "Requirement already satisfied: tzdata>=2022.7 in /opt/conda/lib/python3.12/site-packages (from pandas) (2025.2)\n",
      "Requirement already satisfied: six>=1.5 in /opt/conda/lib/python3.12/site-packages (from python-dateutil>=2.8.2->pandas) (1.17.0)\n"
     ]
    }
   ],
   "source": [
    "!pip install pandas"
   ]
  },
  {
   "cell_type": "code",
   "execution_count": 2,
   "metadata": {},
   "outputs": [
    {
     "name": "stdout",
     "output_type": "stream",
     "text": [
      "Requirement already satisfied: matplotlib in /opt/conda/lib/python3.12/site-packages (3.10.3)\n",
      "Requirement already satisfied: contourpy>=1.0.1 in /opt/conda/lib/python3.12/site-packages (from matplotlib) (1.3.2)\n",
      "Requirement already satisfied: cycler>=0.10 in /opt/conda/lib/python3.12/site-packages (from matplotlib) (0.12.1)\n",
      "Requirement already satisfied: fonttools>=4.22.0 in /opt/conda/lib/python3.12/site-packages (from matplotlib) (4.58.2)\n",
      "Requirement already satisfied: kiwisolver>=1.3.1 in /opt/conda/lib/python3.12/site-packages (from matplotlib) (1.4.8)\n",
      "Requirement already satisfied: numpy>=1.23 in /opt/conda/lib/python3.12/site-packages (from matplotlib) (2.3.0)\n",
      "Requirement already satisfied: packaging>=20.0 in /opt/conda/lib/python3.12/site-packages (from matplotlib) (24.2)\n",
      "Requirement already satisfied: pillow>=8 in /opt/conda/lib/python3.12/site-packages (from matplotlib) (11.2.1)\n",
      "Requirement already satisfied: pyparsing>=2.3.1 in /opt/conda/lib/python3.12/site-packages (from matplotlib) (3.2.3)\n",
      "Requirement already satisfied: python-dateutil>=2.7 in /opt/conda/lib/python3.12/site-packages (from matplotlib) (2.9.0.post0)\n",
      "Requirement already satisfied: six>=1.5 in /opt/conda/lib/python3.12/site-packages (from python-dateutil>=2.7->matplotlib) (1.17.0)\n"
     ]
    }
   ],
   "source": [
    "!pip install matplotlib"
   ]
  },
  {
   "cell_type": "code",
   "execution_count": 53,
   "metadata": {},
   "outputs": [],
   "source": [
    "import pandas as pd\n",
    "import matplotlib.pyplot as plt\n",
    "import numpy as np"
   ]
  },
  {
   "cell_type": "markdown",
   "metadata": {},
   "source": [
    "**Download and Load the Data**\n"
   ]
  },
  {
   "cell_type": "markdown",
   "metadata": {},
   "source": [
    "To start, download and load the dataset into a `pandas` DataFrame.\n",
    "\n"
   ]
  },
  {
   "cell_type": "code",
   "execution_count": 37,
   "metadata": {},
   "outputs": [
    {
     "data": {
      "text/html": [
       "<div>\n",
       "<style scoped>\n",
       "    .dataframe tbody tr th:only-of-type {\n",
       "        vertical-align: middle;\n",
       "    }\n",
       "\n",
       "    .dataframe tbody tr th {\n",
       "        vertical-align: top;\n",
       "    }\n",
       "\n",
       "    .dataframe thead th {\n",
       "        text-align: right;\n",
       "    }\n",
       "</style>\n",
       "<table border=\"1\" class=\"dataframe\">\n",
       "  <thead>\n",
       "    <tr style=\"text-align: right;\">\n",
       "      <th></th>\n",
       "      <th>ResponseId</th>\n",
       "      <th>MainBranch</th>\n",
       "      <th>Age</th>\n",
       "      <th>Employment</th>\n",
       "      <th>RemoteWork</th>\n",
       "      <th>Check</th>\n",
       "      <th>CodingActivities</th>\n",
       "      <th>EdLevel</th>\n",
       "      <th>LearnCode</th>\n",
       "      <th>LearnCodeOnline</th>\n",
       "      <th>...</th>\n",
       "      <th>JobSatPoints_6</th>\n",
       "      <th>JobSatPoints_7</th>\n",
       "      <th>JobSatPoints_8</th>\n",
       "      <th>JobSatPoints_9</th>\n",
       "      <th>JobSatPoints_10</th>\n",
       "      <th>JobSatPoints_11</th>\n",
       "      <th>SurveyLength</th>\n",
       "      <th>SurveyEase</th>\n",
       "      <th>ConvertedCompYearly</th>\n",
       "      <th>JobSat</th>\n",
       "    </tr>\n",
       "  </thead>\n",
       "  <tbody>\n",
       "    <tr>\n",
       "      <th>0</th>\n",
       "      <td>1</td>\n",
       "      <td>I am a developer by profession</td>\n",
       "      <td>Under 18 years old</td>\n",
       "      <td>Employed, full-time</td>\n",
       "      <td>Remote</td>\n",
       "      <td>Apples</td>\n",
       "      <td>Hobby</td>\n",
       "      <td>Primary/elementary school</td>\n",
       "      <td>Books / Physical media</td>\n",
       "      <td>NaN</td>\n",
       "      <td>...</td>\n",
       "      <td>NaN</td>\n",
       "      <td>NaN</td>\n",
       "      <td>NaN</td>\n",
       "      <td>NaN</td>\n",
       "      <td>NaN</td>\n",
       "      <td>NaN</td>\n",
       "      <td>NaN</td>\n",
       "      <td>NaN</td>\n",
       "      <td>NaN</td>\n",
       "      <td>NaN</td>\n",
       "    </tr>\n",
       "    <tr>\n",
       "      <th>1</th>\n",
       "      <td>2</td>\n",
       "      <td>I am a developer by profession</td>\n",
       "      <td>35-44 years old</td>\n",
       "      <td>Employed, full-time</td>\n",
       "      <td>Remote</td>\n",
       "      <td>Apples</td>\n",
       "      <td>Hobby;Contribute to open-source projects;Other...</td>\n",
       "      <td>Bachelor’s degree (B.A., B.S., B.Eng., etc.)</td>\n",
       "      <td>Books / Physical media;Colleague;On the job tr...</td>\n",
       "      <td>Technical documentation;Blogs;Books;Written Tu...</td>\n",
       "      <td>...</td>\n",
       "      <td>0.0</td>\n",
       "      <td>0.0</td>\n",
       "      <td>0.0</td>\n",
       "      <td>0.0</td>\n",
       "      <td>0.0</td>\n",
       "      <td>0.0</td>\n",
       "      <td>NaN</td>\n",
       "      <td>NaN</td>\n",
       "      <td>NaN</td>\n",
       "      <td>NaN</td>\n",
       "    </tr>\n",
       "    <tr>\n",
       "      <th>2</th>\n",
       "      <td>3</td>\n",
       "      <td>I am a developer by profession</td>\n",
       "      <td>45-54 years old</td>\n",
       "      <td>Employed, full-time</td>\n",
       "      <td>Remote</td>\n",
       "      <td>Apples</td>\n",
       "      <td>Hobby;Contribute to open-source projects;Other...</td>\n",
       "      <td>Master’s degree (M.A., M.S., M.Eng., MBA, etc.)</td>\n",
       "      <td>Books / Physical media;Colleague;On the job tr...</td>\n",
       "      <td>Technical documentation;Blogs;Books;Written Tu...</td>\n",
       "      <td>...</td>\n",
       "      <td>NaN</td>\n",
       "      <td>NaN</td>\n",
       "      <td>NaN</td>\n",
       "      <td>NaN</td>\n",
       "      <td>NaN</td>\n",
       "      <td>NaN</td>\n",
       "      <td>Appropriate in length</td>\n",
       "      <td>Easy</td>\n",
       "      <td>NaN</td>\n",
       "      <td>NaN</td>\n",
       "    </tr>\n",
       "    <tr>\n",
       "      <th>3</th>\n",
       "      <td>4</td>\n",
       "      <td>I am learning to code</td>\n",
       "      <td>18-24 years old</td>\n",
       "      <td>Student, full-time</td>\n",
       "      <td>NaN</td>\n",
       "      <td>Apples</td>\n",
       "      <td>NaN</td>\n",
       "      <td>Some college/university study without earning ...</td>\n",
       "      <td>Other online resources (e.g., videos, blogs, f...</td>\n",
       "      <td>Stack Overflow;How-to videos;Interactive tutorial</td>\n",
       "      <td>...</td>\n",
       "      <td>NaN</td>\n",
       "      <td>NaN</td>\n",
       "      <td>NaN</td>\n",
       "      <td>NaN</td>\n",
       "      <td>NaN</td>\n",
       "      <td>NaN</td>\n",
       "      <td>Too long</td>\n",
       "      <td>Easy</td>\n",
       "      <td>NaN</td>\n",
       "      <td>NaN</td>\n",
       "    </tr>\n",
       "    <tr>\n",
       "      <th>4</th>\n",
       "      <td>5</td>\n",
       "      <td>I am a developer by profession</td>\n",
       "      <td>18-24 years old</td>\n",
       "      <td>Student, full-time</td>\n",
       "      <td>NaN</td>\n",
       "      <td>Apples</td>\n",
       "      <td>NaN</td>\n",
       "      <td>Secondary school (e.g. American high school, G...</td>\n",
       "      <td>Other online resources (e.g., videos, blogs, f...</td>\n",
       "      <td>Technical documentation;Blogs;Written Tutorial...</td>\n",
       "      <td>...</td>\n",
       "      <td>NaN</td>\n",
       "      <td>NaN</td>\n",
       "      <td>NaN</td>\n",
       "      <td>NaN</td>\n",
       "      <td>NaN</td>\n",
       "      <td>NaN</td>\n",
       "      <td>Too short</td>\n",
       "      <td>Easy</td>\n",
       "      <td>NaN</td>\n",
       "      <td>NaN</td>\n",
       "    </tr>\n",
       "  </tbody>\n",
       "</table>\n",
       "<p>5 rows × 114 columns</p>\n",
       "</div>"
      ],
      "text/plain": [
       "   ResponseId                      MainBranch                 Age  \\\n",
       "0           1  I am a developer by profession  Under 18 years old   \n",
       "1           2  I am a developer by profession     35-44 years old   \n",
       "2           3  I am a developer by profession     45-54 years old   \n",
       "3           4           I am learning to code     18-24 years old   \n",
       "4           5  I am a developer by profession     18-24 years old   \n",
       "\n",
       "            Employment RemoteWork   Check  \\\n",
       "0  Employed, full-time     Remote  Apples   \n",
       "1  Employed, full-time     Remote  Apples   \n",
       "2  Employed, full-time     Remote  Apples   \n",
       "3   Student, full-time        NaN  Apples   \n",
       "4   Student, full-time        NaN  Apples   \n",
       "\n",
       "                                    CodingActivities  \\\n",
       "0                                              Hobby   \n",
       "1  Hobby;Contribute to open-source projects;Other...   \n",
       "2  Hobby;Contribute to open-source projects;Other...   \n",
       "3                                                NaN   \n",
       "4                                                NaN   \n",
       "\n",
       "                                             EdLevel  \\\n",
       "0                          Primary/elementary school   \n",
       "1       Bachelor’s degree (B.A., B.S., B.Eng., etc.)   \n",
       "2    Master’s degree (M.A., M.S., M.Eng., MBA, etc.)   \n",
       "3  Some college/university study without earning ...   \n",
       "4  Secondary school (e.g. American high school, G...   \n",
       "\n",
       "                                           LearnCode  \\\n",
       "0                             Books / Physical media   \n",
       "1  Books / Physical media;Colleague;On the job tr...   \n",
       "2  Books / Physical media;Colleague;On the job tr...   \n",
       "3  Other online resources (e.g., videos, blogs, f...   \n",
       "4  Other online resources (e.g., videos, blogs, f...   \n",
       "\n",
       "                                     LearnCodeOnline  ... JobSatPoints_6  \\\n",
       "0                                                NaN  ...            NaN   \n",
       "1  Technical documentation;Blogs;Books;Written Tu...  ...            0.0   \n",
       "2  Technical documentation;Blogs;Books;Written Tu...  ...            NaN   \n",
       "3  Stack Overflow;How-to videos;Interactive tutorial  ...            NaN   \n",
       "4  Technical documentation;Blogs;Written Tutorial...  ...            NaN   \n",
       "\n",
       "  JobSatPoints_7 JobSatPoints_8 JobSatPoints_9 JobSatPoints_10  \\\n",
       "0            NaN            NaN            NaN             NaN   \n",
       "1            0.0            0.0            0.0             0.0   \n",
       "2            NaN            NaN            NaN             NaN   \n",
       "3            NaN            NaN            NaN             NaN   \n",
       "4            NaN            NaN            NaN             NaN   \n",
       "\n",
       "  JobSatPoints_11           SurveyLength SurveyEase ConvertedCompYearly JobSat  \n",
       "0             NaN                    NaN        NaN                 NaN    NaN  \n",
       "1             0.0                    NaN        NaN                 NaN    NaN  \n",
       "2             NaN  Appropriate in length       Easy                 NaN    NaN  \n",
       "3             NaN               Too long       Easy                 NaN    NaN  \n",
       "4             NaN              Too short       Easy                 NaN    NaN  \n",
       "\n",
       "[5 rows x 114 columns]"
      ]
     },
     "execution_count": 37,
     "metadata": {},
     "output_type": "execute_result"
    }
   ],
   "source": [
    "# Step 1: Load the dataset from local disk\n",
    "\n",
    "import zipfile\n",
    "\n",
    "# Path to your ZIP file\n",
    "zip_path = \"survey_data.zip\"\n",
    "csv_filename = \"survey_data.csv\"  # name of the CSV inside the ZIP\n",
    "\n",
    "# Open the ZIP and read the CSV directly\n",
    "with zipfile.ZipFile(zip_path) as z:\n",
    "    with z.open(csv_filename) as f:\n",
    "        df = pd.read_csv(f)\n",
    "\n",
    "# Display the first few rows to understand the structure of the data\n",
    "df.head()\n"
   ]
  },
  {
   "cell_type": "code",
   "execution_count": 38,
   "metadata": {},
   "outputs": [
    {
     "name": "stdout",
     "output_type": "stream",
     "text": [
      "(65437, 114)\n",
      "ResponseId               int64\n",
      "MainBranch              object\n",
      "Age                     object\n",
      "Employment              object\n",
      "RemoteWork              object\n",
      "                        ...   \n",
      "JobSatPoints_11        float64\n",
      "SurveyLength            object\n",
      "SurveyEase              object\n",
      "ConvertedCompYearly    float64\n",
      "JobSat                 float64\n",
      "Length: 114, dtype: object\n"
     ]
    }
   ],
   "source": [
    "print(df.shape)\n",
    "print(df.dtypes)"
   ]
  },
  {
   "cell_type": "code",
   "execution_count": 39,
   "metadata": {},
   "outputs": [
    {
     "name": "stdout",
     "output_type": "stream",
     "text": [
      "AINextMuch less integrated    64289\n",
      "AINextLess integrated         63082\n",
      "AINextNo change               52939\n",
      "AINextMuch more integrated    51999\n",
      "EmbeddedAdmired               48704\n",
      "                              ...  \n",
      "MainBranch                        0\n",
      "Check                             0\n",
      "Employment                        0\n",
      "Age                               0\n",
      "ResponseId                        0\n",
      "Length: 114, dtype: int64\n"
     ]
    },
    {
     "data": {
      "text/html": [
       "<div>\n",
       "<style scoped>\n",
       "    .dataframe tbody tr th:only-of-type {\n",
       "        vertical-align: middle;\n",
       "    }\n",
       "\n",
       "    .dataframe tbody tr th {\n",
       "        vertical-align: top;\n",
       "    }\n",
       "\n",
       "    .dataframe thead th {\n",
       "        text-align: right;\n",
       "    }\n",
       "</style>\n",
       "<table border=\"1\" class=\"dataframe\">\n",
       "  <thead>\n",
       "    <tr style=\"text-align: right;\">\n",
       "      <th></th>\n",
       "      <th>ResponseId</th>\n",
       "      <th>CompTotal</th>\n",
       "      <th>WorkExp</th>\n",
       "      <th>JobSatPoints_1</th>\n",
       "      <th>JobSatPoints_4</th>\n",
       "      <th>JobSatPoints_5</th>\n",
       "      <th>JobSatPoints_6</th>\n",
       "      <th>JobSatPoints_7</th>\n",
       "      <th>JobSatPoints_8</th>\n",
       "      <th>JobSatPoints_9</th>\n",
       "      <th>JobSatPoints_10</th>\n",
       "      <th>JobSatPoints_11</th>\n",
       "      <th>ConvertedCompYearly</th>\n",
       "      <th>JobSat</th>\n",
       "    </tr>\n",
       "  </thead>\n",
       "  <tbody>\n",
       "    <tr>\n",
       "      <th>count</th>\n",
       "      <td>65437.000000</td>\n",
       "      <td>3.374000e+04</td>\n",
       "      <td>29658.000000</td>\n",
       "      <td>29324.000000</td>\n",
       "      <td>29393.000000</td>\n",
       "      <td>29411.000000</td>\n",
       "      <td>29450.000000</td>\n",
       "      <td>29448.00000</td>\n",
       "      <td>29456.000000</td>\n",
       "      <td>29456.000000</td>\n",
       "      <td>29450.000000</td>\n",
       "      <td>29445.000000</td>\n",
       "      <td>2.343500e+04</td>\n",
       "      <td>29126.000000</td>\n",
       "    </tr>\n",
       "    <tr>\n",
       "      <th>mean</th>\n",
       "      <td>32719.000000</td>\n",
       "      <td>2.963841e+145</td>\n",
       "      <td>11.466957</td>\n",
       "      <td>18.581094</td>\n",
       "      <td>7.522140</td>\n",
       "      <td>10.060857</td>\n",
       "      <td>24.343232</td>\n",
       "      <td>22.96522</td>\n",
       "      <td>20.278165</td>\n",
       "      <td>16.169432</td>\n",
       "      <td>10.955713</td>\n",
       "      <td>9.953948</td>\n",
       "      <td>8.615529e+04</td>\n",
       "      <td>6.935041</td>\n",
       "    </tr>\n",
       "    <tr>\n",
       "      <th>std</th>\n",
       "      <td>18890.179119</td>\n",
       "      <td>5.444117e+147</td>\n",
       "      <td>9.168709</td>\n",
       "      <td>25.966221</td>\n",
       "      <td>18.422661</td>\n",
       "      <td>21.833836</td>\n",
       "      <td>27.089360</td>\n",
       "      <td>27.01774</td>\n",
       "      <td>26.108110</td>\n",
       "      <td>24.845032</td>\n",
       "      <td>22.906263</td>\n",
       "      <td>21.775652</td>\n",
       "      <td>1.867570e+05</td>\n",
       "      <td>2.088259</td>\n",
       "    </tr>\n",
       "    <tr>\n",
       "      <th>min</th>\n",
       "      <td>1.000000</td>\n",
       "      <td>0.000000e+00</td>\n",
       "      <td>0.000000</td>\n",
       "      <td>0.000000</td>\n",
       "      <td>0.000000</td>\n",
       "      <td>0.000000</td>\n",
       "      <td>0.000000</td>\n",
       "      <td>0.00000</td>\n",
       "      <td>0.000000</td>\n",
       "      <td>0.000000</td>\n",
       "      <td>0.000000</td>\n",
       "      <td>0.000000</td>\n",
       "      <td>1.000000e+00</td>\n",
       "      <td>0.000000</td>\n",
       "    </tr>\n",
       "    <tr>\n",
       "      <th>25%</th>\n",
       "      <td>16360.000000</td>\n",
       "      <td>6.000000e+04</td>\n",
       "      <td>4.000000</td>\n",
       "      <td>0.000000</td>\n",
       "      <td>0.000000</td>\n",
       "      <td>0.000000</td>\n",
       "      <td>0.000000</td>\n",
       "      <td>0.00000</td>\n",
       "      <td>0.000000</td>\n",
       "      <td>0.000000</td>\n",
       "      <td>0.000000</td>\n",
       "      <td>0.000000</td>\n",
       "      <td>3.271200e+04</td>\n",
       "      <td>6.000000</td>\n",
       "    </tr>\n",
       "    <tr>\n",
       "      <th>50%</th>\n",
       "      <td>32719.000000</td>\n",
       "      <td>1.100000e+05</td>\n",
       "      <td>9.000000</td>\n",
       "      <td>10.000000</td>\n",
       "      <td>0.000000</td>\n",
       "      <td>0.000000</td>\n",
       "      <td>20.000000</td>\n",
       "      <td>15.00000</td>\n",
       "      <td>10.000000</td>\n",
       "      <td>5.000000</td>\n",
       "      <td>0.000000</td>\n",
       "      <td>0.000000</td>\n",
       "      <td>6.500000e+04</td>\n",
       "      <td>7.000000</td>\n",
       "    </tr>\n",
       "    <tr>\n",
       "      <th>75%</th>\n",
       "      <td>49078.000000</td>\n",
       "      <td>2.500000e+05</td>\n",
       "      <td>16.000000</td>\n",
       "      <td>22.000000</td>\n",
       "      <td>5.000000</td>\n",
       "      <td>10.000000</td>\n",
       "      <td>30.000000</td>\n",
       "      <td>30.00000</td>\n",
       "      <td>25.000000</td>\n",
       "      <td>20.000000</td>\n",
       "      <td>10.000000</td>\n",
       "      <td>10.000000</td>\n",
       "      <td>1.079715e+05</td>\n",
       "      <td>8.000000</td>\n",
       "    </tr>\n",
       "    <tr>\n",
       "      <th>max</th>\n",
       "      <td>65437.000000</td>\n",
       "      <td>1.000000e+150</td>\n",
       "      <td>50.000000</td>\n",
       "      <td>100.000000</td>\n",
       "      <td>100.000000</td>\n",
       "      <td>100.000000</td>\n",
       "      <td>100.000000</td>\n",
       "      <td>100.00000</td>\n",
       "      <td>100.000000</td>\n",
       "      <td>100.000000</td>\n",
       "      <td>100.000000</td>\n",
       "      <td>100.000000</td>\n",
       "      <td>1.625660e+07</td>\n",
       "      <td>10.000000</td>\n",
       "    </tr>\n",
       "  </tbody>\n",
       "</table>\n",
       "</div>"
      ],
      "text/plain": [
       "         ResponseId      CompTotal       WorkExp  JobSatPoints_1  \\\n",
       "count  65437.000000   3.374000e+04  29658.000000    29324.000000   \n",
       "mean   32719.000000  2.963841e+145     11.466957       18.581094   \n",
       "std    18890.179119  5.444117e+147      9.168709       25.966221   \n",
       "min        1.000000   0.000000e+00      0.000000        0.000000   \n",
       "25%    16360.000000   6.000000e+04      4.000000        0.000000   \n",
       "50%    32719.000000   1.100000e+05      9.000000       10.000000   \n",
       "75%    49078.000000   2.500000e+05     16.000000       22.000000   \n",
       "max    65437.000000  1.000000e+150     50.000000      100.000000   \n",
       "\n",
       "       JobSatPoints_4  JobSatPoints_5  JobSatPoints_6  JobSatPoints_7  \\\n",
       "count    29393.000000    29411.000000    29450.000000     29448.00000   \n",
       "mean         7.522140       10.060857       24.343232        22.96522   \n",
       "std         18.422661       21.833836       27.089360        27.01774   \n",
       "min          0.000000        0.000000        0.000000         0.00000   \n",
       "25%          0.000000        0.000000        0.000000         0.00000   \n",
       "50%          0.000000        0.000000       20.000000        15.00000   \n",
       "75%          5.000000       10.000000       30.000000        30.00000   \n",
       "max        100.000000      100.000000      100.000000       100.00000   \n",
       "\n",
       "       JobSatPoints_8  JobSatPoints_9  JobSatPoints_10  JobSatPoints_11  \\\n",
       "count    29456.000000    29456.000000     29450.000000     29445.000000   \n",
       "mean        20.278165       16.169432        10.955713         9.953948   \n",
       "std         26.108110       24.845032        22.906263        21.775652   \n",
       "min          0.000000        0.000000         0.000000         0.000000   \n",
       "25%          0.000000        0.000000         0.000000         0.000000   \n",
       "50%         10.000000        5.000000         0.000000         0.000000   \n",
       "75%         25.000000       20.000000        10.000000        10.000000   \n",
       "max        100.000000      100.000000       100.000000       100.000000   \n",
       "\n",
       "       ConvertedCompYearly        JobSat  \n",
       "count         2.343500e+04  29126.000000  \n",
       "mean          8.615529e+04      6.935041  \n",
       "std           1.867570e+05      2.088259  \n",
       "min           1.000000e+00      0.000000  \n",
       "25%           3.271200e+04      6.000000  \n",
       "50%           6.500000e+04      7.000000  \n",
       "75%           1.079715e+05      8.000000  \n",
       "max           1.625660e+07     10.000000  "
      ]
     },
     "execution_count": 39,
     "metadata": {},
     "output_type": "execute_result"
    }
   ],
   "source": [
    "missing_values = df.isnull().sum().sort_values(ascending=False)\n",
    "print(missing_values)\n",
    "df.describe()"
   ]
  },
  {
   "cell_type": "markdown",
   "metadata": {},
   "source": [
    "# Check for duplicates"
   ]
  },
  {
   "cell_type": "code",
   "execution_count": 40,
   "metadata": {},
   "outputs": [
    {
     "name": "stdout",
     "output_type": "stream",
     "text": [
      "Number of duplicate rows: 0\n"
     ]
    }
   ],
   "source": [
    "print(f\"Number of duplicate rows: {df.duplicated().sum()}\")"
   ]
  },
  {
   "cell_type": "markdown",
   "metadata": {},
   "source": [
    "# Cleaning up inconsistent values in the Country column."
   ]
  },
  {
   "cell_type": "code",
   "execution_count": 41,
   "metadata": {},
   "outputs": [],
   "source": [
    "country_dict = {\n",
    "    'United States of America': 'USA',\n",
    "    'United Kingdom of Great Britain and Northern Ireland': 'Great Britain'\n",
    "}\n",
    "df['Country'] = df['Country'].replace(country_dict)"
   ]
  },
  {
   "cell_type": "markdown",
   "metadata": {},
   "source": [
    "# Standardizing values in the `EdLevel` column."
   ]
  },
  {
   "cell_type": "code",
   "execution_count": 42,
   "metadata": {},
   "outputs": [],
   "source": [
    "educ_dict = {\n",
    "    'Bachelor’s degree (B.A., B.S., B.Eng., etc.)': 'Bachelor’s degree',\n",
    "    'Master’s degree (M.A., M.S., M.Eng., MBA, etc.)': 'Master’s degree',\n",
    "    'Some college/university study without earning a degree': 'college/university (no degree)',\n",
    "    'Secondary school (e.g. American high school, German Realschule or Gymnasium, etc.)': 'Secondary school',\n",
    "    'Professional degree (JD, MD, Ph.D, Ed.D, etc.)': 'Professional',\n",
    "    'Associate degree (A.A., A.S., etc.)': 'Associate',\n",
    "}\n",
    "df['EdLevel'] = df['EdLevel'].replace(educ_dict)"
   ]
  },
  {
   "cell_type": "markdown",
   "metadata": {},
   "source": [
    "# Handling Missing Values"
   ]
  },
  {
   "cell_type": "code",
   "execution_count": 44,
   "metadata": {},
   "outputs": [
    {
     "name": "stdout",
     "output_type": "stream",
     "text": [
      "ResponseId                         0\n",
      "MainBranch                         0\n",
      "Age                                0\n",
      "Employment                         0\n",
      "Check                              0\n",
      "AISelect                        4530\n",
      "EdLevel                         4653\n",
      "LearnCode                       4949\n",
      "NEWSOSites                      5151\n",
      "YearsCode                       5568\n",
      "LanguageHaveWorkedWith          5692\n",
      "SOAccount                       5877\n",
      "SOVisitFreq                     5901\n",
      "DevType                         5992\n",
      "SOComm                          6274\n",
      "SOHow                           6475\n",
      "Country                         6507\n",
      "OpSysPersonal use               7263\n",
      "NEWCollabToolsHaveWorkedWith    7845\n",
      "SurveyEase                      9199\n",
      "dtype: int64\n"
     ]
    }
   ],
   "source": [
    "missing_values = df.isnull().sum().sort_values(ascending=True).head(20)\n",
    "print(missing_values)"
   ]
  },
  {
   "cell_type": "markdown",
   "metadata": {},
   "source": [
    "# Imputing missing values in numerical and categorical columns."
   ]
  },
  {
   "cell_type": "code",
   "execution_count": 45,
   "metadata": {},
   "outputs": [
    {
     "name": "stdout",
     "output_type": "stream",
     "text": [
      "Missing values in 'WorkExp': 35779\n",
      "Mean WorkExp 11.47\n"
     ]
    }
   ],
   "source": [
    "# For numerical columns (e.g., WorkExp), I filled missing values with the mean.\n",
    "missing_values_WorkExp = df['WorkExp'].isnull().sum()\n",
    "print(f\"Missing values in 'WorkExp': {missing_values_WorkExp}\")\n",
    "mean_exp = round(df['WorkExp'].mean(), 2)\n",
    "df['WorkExp'] = df['WorkExp'].fillna(mean_exp)\n",
    "print(\"Mean WorkExp\", mean_exp)"
   ]
  },
  {
   "cell_type": "code",
   "execution_count": 46,
   "metadata": {},
   "outputs": [
    {
     "name": "stdout",
     "output_type": "stream",
     "text": [
      "Missing values in 'WorkExp': 0\n"
     ]
    }
   ],
   "source": [
    "print(f\"Missing values in 'WorkExp': {df['WorkExp'].isnull().sum()}\")"
   ]
  },
  {
   "cell_type": "code",
   "execution_count": 47,
   "metadata": {},
   "outputs": [
    {
     "name": "stdout",
     "output_type": "stream",
     "text": [
      "Missing values in 'RemoteWork': 10631\n",
      "Most frequent value in 'RemoteWork': Hybrid (some remote, some in-person)\n"
     ]
    }
   ],
   "source": [
    "# For categorical columns (e.g., RemoteWork), I used the mode.\n",
    "missing_values_remote = df['RemoteWork'].isnull().sum()\n",
    "print(f\"Missing values in 'RemoteWork': {missing_values_remote}\")\n",
    "most_frequent_value = df['RemoteWork'].mode()[0]\n",
    "print(f\"Most frequent value in 'RemoteWork': {most_frequent_value}\")"
   ]
  },
  {
   "cell_type": "code",
   "execution_count": 48,
   "metadata": {},
   "outputs": [
    {
     "name": "stdout",
     "output_type": "stream",
     "text": [
      "Missing values in 'RemoteWork': 0\n"
     ]
    }
   ],
   "source": [
    "df['RemoteWork'] = df['RemoteWork'].fillna(most_frequent_value)\n",
    "print(f\"Missing values in 'RemoteWork': {df['RemoteWork'].isnull().sum()}\")"
   ]
  },
  {
   "cell_type": "markdown",
   "metadata": {},
   "source": [
    "# Feature Scaling and Transformation.\n",
    "Applying Min-Max Scaling to normalize the `ConvertedCompYearly` column."
   ]
  },
  {
   "cell_type": "code",
   "execution_count": 51,
   "metadata": {},
   "outputs": [
    {
     "name": "stdout",
     "output_type": "stream",
     "text": [
      "min 1.0\n",
      "max 16256603.0\n"
     ]
    }
   ],
   "source": [
    "# Created a new dataset\n",
    "df_normalazed_comp = df[df['ConvertedCompYearly'].notnull()].copy()\n",
    "\n",
    "# Normalozing Min-Max\n",
    "min_value = df_normalazed_comp['ConvertedCompYearly'].min()\n",
    "max_value = df_normalazed_comp['ConvertedCompYearly'].max()\n",
    "print (f'min {min_value}')\n",
    "print (f'max {max_value}')"
   ]
  },
  {
   "cell_type": "code",
   "execution_count": 52,
   "metadata": {},
   "outputs": [
    {
     "data": {
      "text/html": [
       "<div>\n",
       "<style scoped>\n",
       "    .dataframe tbody tr th:only-of-type {\n",
       "        vertical-align: middle;\n",
       "    }\n",
       "\n",
       "    .dataframe tbody tr th {\n",
       "        vertical-align: top;\n",
       "    }\n",
       "\n",
       "    .dataframe thead th {\n",
       "        text-align: right;\n",
       "    }\n",
       "</style>\n",
       "<table border=\"1\" class=\"dataframe\">\n",
       "  <thead>\n",
       "    <tr style=\"text-align: right;\">\n",
       "      <th></th>\n",
       "      <th>ResponseId</th>\n",
       "      <th>MainBranch</th>\n",
       "      <th>Age</th>\n",
       "      <th>Employment</th>\n",
       "      <th>RemoteWork</th>\n",
       "      <th>Check</th>\n",
       "      <th>CodingActivities</th>\n",
       "      <th>EdLevel</th>\n",
       "      <th>LearnCode</th>\n",
       "      <th>LearnCodeOnline</th>\n",
       "      <th>...</th>\n",
       "      <th>JobSatPoints_7</th>\n",
       "      <th>JobSatPoints_8</th>\n",
       "      <th>JobSatPoints_9</th>\n",
       "      <th>JobSatPoints_10</th>\n",
       "      <th>JobSatPoints_11</th>\n",
       "      <th>SurveyLength</th>\n",
       "      <th>SurveyEase</th>\n",
       "      <th>ConvertedCompYearly</th>\n",
       "      <th>JobSat</th>\n",
       "      <th>ConvertedCompYearly_MinMax</th>\n",
       "    </tr>\n",
       "  </thead>\n",
       "  <tbody>\n",
       "    <tr>\n",
       "      <th>72</th>\n",
       "      <td>73</td>\n",
       "      <td>I am a developer by profession</td>\n",
       "      <td>18-24 years old</td>\n",
       "      <td>Employed, full-time;Student, full-time;Indepen...</td>\n",
       "      <td>Hybrid (some remote, some in-person)</td>\n",
       "      <td>Apples</td>\n",
       "      <td>Hobby;School or academic work;Professional dev...</td>\n",
       "      <td>Secondary school</td>\n",
       "      <td>On the job training;Other online resources (e....</td>\n",
       "      <td>Technical documentation;Blogs;Written Tutorial...</td>\n",
       "      <td>...</td>\n",
       "      <td>100.0</td>\n",
       "      <td>100.0</td>\n",
       "      <td>100.0</td>\n",
       "      <td>50.0</td>\n",
       "      <td>90.0</td>\n",
       "      <td>Too long</td>\n",
       "      <td>Easy</td>\n",
       "      <td>7322.0</td>\n",
       "      <td>10.0</td>\n",
       "      <td>0.000450</td>\n",
       "    </tr>\n",
       "    <tr>\n",
       "      <th>374</th>\n",
       "      <td>375</td>\n",
       "      <td>I am not primarily a developer, but I write co...</td>\n",
       "      <td>25-34 years old</td>\n",
       "      <td>Employed, full-time</td>\n",
       "      <td>Hybrid (some remote, some in-person)</td>\n",
       "      <td>Apples</td>\n",
       "      <td>Hobby;School or academic work;Professional dev...</td>\n",
       "      <td>Professional</td>\n",
       "      <td>Books / Physical media;Colleague;On the job tr...</td>\n",
       "      <td>Written Tutorials;Stack Overflow;Written-based...</td>\n",
       "      <td>...</td>\n",
       "      <td>NaN</td>\n",
       "      <td>NaN</td>\n",
       "      <td>NaN</td>\n",
       "      <td>NaN</td>\n",
       "      <td>NaN</td>\n",
       "      <td>Appropriate in length</td>\n",
       "      <td>Neither easy nor difficult</td>\n",
       "      <td>30074.0</td>\n",
       "      <td>NaN</td>\n",
       "      <td>0.001850</td>\n",
       "    </tr>\n",
       "    <tr>\n",
       "      <th>379</th>\n",
       "      <td>380</td>\n",
       "      <td>I am a developer by profession</td>\n",
       "      <td>35-44 years old</td>\n",
       "      <td>Employed, full-time</td>\n",
       "      <td>Remote</td>\n",
       "      <td>Apples</td>\n",
       "      <td>Hobby;Bootstrapping a business</td>\n",
       "      <td>Master’s degree</td>\n",
       "      <td>Books / Physical media;Other online resources ...</td>\n",
       "      <td>Technical documentation;Books;Social Media;Wri...</td>\n",
       "      <td>...</td>\n",
       "      <td>0.0</td>\n",
       "      <td>0.0</td>\n",
       "      <td>0.0</td>\n",
       "      <td>0.0</td>\n",
       "      <td>0.0</td>\n",
       "      <td>Too long</td>\n",
       "      <td>Difficult</td>\n",
       "      <td>91295.0</td>\n",
       "      <td>10.0</td>\n",
       "      <td>0.005616</td>\n",
       "    </tr>\n",
       "    <tr>\n",
       "      <th>385</th>\n",
       "      <td>386</td>\n",
       "      <td>I am a developer by profession</td>\n",
       "      <td>35-44 years old</td>\n",
       "      <td>Independent contractor, freelancer, or self-em...</td>\n",
       "      <td>Remote</td>\n",
       "      <td>Apples</td>\n",
       "      <td>Hobby</td>\n",
       "      <td>Master’s degree</td>\n",
       "      <td>Books / Physical media;On the job training;Oth...</td>\n",
       "      <td>Technical documentation;Blogs;Written Tutorial...</td>\n",
       "      <td>...</td>\n",
       "      <td>NaN</td>\n",
       "      <td>NaN</td>\n",
       "      <td>NaN</td>\n",
       "      <td>NaN</td>\n",
       "      <td>NaN</td>\n",
       "      <td>Too short</td>\n",
       "      <td>Easy</td>\n",
       "      <td>53703.0</td>\n",
       "      <td>NaN</td>\n",
       "      <td>0.003303</td>\n",
       "    </tr>\n",
       "    <tr>\n",
       "      <th>389</th>\n",
       "      <td>390</td>\n",
       "      <td>I am a developer by profession</td>\n",
       "      <td>25-34 years old</td>\n",
       "      <td>Employed, full-time;Student, part-time</td>\n",
       "      <td>Remote</td>\n",
       "      <td>Apples</td>\n",
       "      <td>Hobby;School or academic work</td>\n",
       "      <td>college/university (no degree)</td>\n",
       "      <td>Books / Physical media;Colleague;On the job tr...</td>\n",
       "      <td>Written Tutorials;Stack Overflow;Coding sessio...</td>\n",
       "      <td>...</td>\n",
       "      <td>30.0</td>\n",
       "      <td>5.0</td>\n",
       "      <td>20.0</td>\n",
       "      <td>10.0</td>\n",
       "      <td>5.0</td>\n",
       "      <td>Too long</td>\n",
       "      <td>Easy</td>\n",
       "      <td>110000.0</td>\n",
       "      <td>10.0</td>\n",
       "      <td>0.006766</td>\n",
       "    </tr>\n",
       "  </tbody>\n",
       "</table>\n",
       "<p>5 rows × 115 columns</p>\n",
       "</div>"
      ],
      "text/plain": [
       "     ResponseId                                         MainBranch  \\\n",
       "72           73                     I am a developer by profession   \n",
       "374         375  I am not primarily a developer, but I write co...   \n",
       "379         380                     I am a developer by profession   \n",
       "385         386                     I am a developer by profession   \n",
       "389         390                     I am a developer by profession   \n",
       "\n",
       "                 Age                                         Employment  \\\n",
       "72   18-24 years old  Employed, full-time;Student, full-time;Indepen...   \n",
       "374  25-34 years old                                Employed, full-time   \n",
       "379  35-44 years old                                Employed, full-time   \n",
       "385  35-44 years old  Independent contractor, freelancer, or self-em...   \n",
       "389  25-34 years old             Employed, full-time;Student, part-time   \n",
       "\n",
       "                               RemoteWork   Check  \\\n",
       "72   Hybrid (some remote, some in-person)  Apples   \n",
       "374  Hybrid (some remote, some in-person)  Apples   \n",
       "379                                Remote  Apples   \n",
       "385                                Remote  Apples   \n",
       "389                                Remote  Apples   \n",
       "\n",
       "                                      CodingActivities  \\\n",
       "72   Hobby;School or academic work;Professional dev...   \n",
       "374  Hobby;School or academic work;Professional dev...   \n",
       "379                     Hobby;Bootstrapping a business   \n",
       "385                                              Hobby   \n",
       "389                      Hobby;School or academic work   \n",
       "\n",
       "                            EdLevel  \\\n",
       "72                 Secondary school   \n",
       "374                    Professional   \n",
       "379                 Master’s degree   \n",
       "385                 Master’s degree   \n",
       "389  college/university (no degree)   \n",
       "\n",
       "                                             LearnCode  \\\n",
       "72   On the job training;Other online resources (e....   \n",
       "374  Books / Physical media;Colleague;On the job tr...   \n",
       "379  Books / Physical media;Other online resources ...   \n",
       "385  Books / Physical media;On the job training;Oth...   \n",
       "389  Books / Physical media;Colleague;On the job tr...   \n",
       "\n",
       "                                       LearnCodeOnline  ... JobSatPoints_7  \\\n",
       "72   Technical documentation;Blogs;Written Tutorial...  ...          100.0   \n",
       "374  Written Tutorials;Stack Overflow;Written-based...  ...            NaN   \n",
       "379  Technical documentation;Books;Social Media;Wri...  ...            0.0   \n",
       "385  Technical documentation;Blogs;Written Tutorial...  ...            NaN   \n",
       "389  Written Tutorials;Stack Overflow;Coding sessio...  ...           30.0   \n",
       "\n",
       "    JobSatPoints_8 JobSatPoints_9 JobSatPoints_10 JobSatPoints_11  \\\n",
       "72           100.0          100.0            50.0            90.0   \n",
       "374            NaN            NaN             NaN             NaN   \n",
       "379            0.0            0.0             0.0             0.0   \n",
       "385            NaN            NaN             NaN             NaN   \n",
       "389            5.0           20.0            10.0             5.0   \n",
       "\n",
       "              SurveyLength                  SurveyEase ConvertedCompYearly  \\\n",
       "72                Too long                        Easy              7322.0   \n",
       "374  Appropriate in length  Neither easy nor difficult             30074.0   \n",
       "379               Too long                   Difficult             91295.0   \n",
       "385              Too short                        Easy             53703.0   \n",
       "389               Too long                        Easy            110000.0   \n",
       "\n",
       "    JobSat ConvertedCompYearly_MinMax  \n",
       "72    10.0                   0.000450  \n",
       "374    NaN                   0.001850  \n",
       "379   10.0                   0.005616  \n",
       "385    NaN                   0.003303  \n",
       "389   10.0                   0.006766  \n",
       "\n",
       "[5 rows x 115 columns]"
      ]
     },
     "execution_count": 52,
     "metadata": {},
     "output_type": "execute_result"
    }
   ],
   "source": [
    "# Added a new column 'ConvertedCompYearly_MinMax'\n",
    "\n",
    "df_normalazed_comp['ConvertedCompYearly_MinMax'] = (\n",
    "    (df_normalazed_comp['ConvertedCompYearly'] - min_value) / (max_value - min_value) )\n",
    "df_normalazed_comp.head()"
   ]
  },
  {
   "cell_type": "markdown",
   "metadata": {},
   "source": [
    "Log-transforming the ConvertedCompYearly column to reduce skewness."
   ]
  },
  {
   "cell_type": "code",
   "execution_count": 54,
   "metadata": {},
   "outputs": [
    {
     "data": {
      "text/html": [
       "<div>\n",
       "<style scoped>\n",
       "    .dataframe tbody tr th:only-of-type {\n",
       "        vertical-align: middle;\n",
       "    }\n",
       "\n",
       "    .dataframe tbody tr th {\n",
       "        vertical-align: top;\n",
       "    }\n",
       "\n",
       "    .dataframe thead th {\n",
       "        text-align: right;\n",
       "    }\n",
       "</style>\n",
       "<table border=\"1\" class=\"dataframe\">\n",
       "  <thead>\n",
       "    <tr style=\"text-align: right;\">\n",
       "      <th></th>\n",
       "      <th>ResponseId</th>\n",
       "      <th>MainBranch</th>\n",
       "      <th>Age</th>\n",
       "      <th>Employment</th>\n",
       "      <th>RemoteWork</th>\n",
       "      <th>Check</th>\n",
       "      <th>CodingActivities</th>\n",
       "      <th>EdLevel</th>\n",
       "      <th>LearnCode</th>\n",
       "      <th>LearnCodeOnline</th>\n",
       "      <th>...</th>\n",
       "      <th>JobSatPoints_8</th>\n",
       "      <th>JobSatPoints_9</th>\n",
       "      <th>JobSatPoints_10</th>\n",
       "      <th>JobSatPoints_11</th>\n",
       "      <th>SurveyLength</th>\n",
       "      <th>SurveyEase</th>\n",
       "      <th>ConvertedCompYearly</th>\n",
       "      <th>JobSat</th>\n",
       "      <th>ConvertedCompYearly_MinMax</th>\n",
       "      <th>ConvertedCompYearly_Log</th>\n",
       "    </tr>\n",
       "  </thead>\n",
       "  <tbody>\n",
       "    <tr>\n",
       "      <th>72</th>\n",
       "      <td>73</td>\n",
       "      <td>I am a developer by profession</td>\n",
       "      <td>18-24 years old</td>\n",
       "      <td>Employed, full-time;Student, full-time;Indepen...</td>\n",
       "      <td>Hybrid (some remote, some in-person)</td>\n",
       "      <td>Apples</td>\n",
       "      <td>Hobby;School or academic work;Professional dev...</td>\n",
       "      <td>Secondary school</td>\n",
       "      <td>On the job training;Other online resources (e....</td>\n",
       "      <td>Technical documentation;Blogs;Written Tutorial...</td>\n",
       "      <td>...</td>\n",
       "      <td>100.0</td>\n",
       "      <td>100.0</td>\n",
       "      <td>50.0</td>\n",
       "      <td>90.0</td>\n",
       "      <td>Too long</td>\n",
       "      <td>Easy</td>\n",
       "      <td>7322.0</td>\n",
       "      <td>10.0</td>\n",
       "      <td>0.000450</td>\n",
       "      <td>8.898639</td>\n",
       "    </tr>\n",
       "    <tr>\n",
       "      <th>374</th>\n",
       "      <td>375</td>\n",
       "      <td>I am not primarily a developer, but I write co...</td>\n",
       "      <td>25-34 years old</td>\n",
       "      <td>Employed, full-time</td>\n",
       "      <td>Hybrid (some remote, some in-person)</td>\n",
       "      <td>Apples</td>\n",
       "      <td>Hobby;School or academic work;Professional dev...</td>\n",
       "      <td>Professional</td>\n",
       "      <td>Books / Physical media;Colleague;On the job tr...</td>\n",
       "      <td>Written Tutorials;Stack Overflow;Written-based...</td>\n",
       "      <td>...</td>\n",
       "      <td>NaN</td>\n",
       "      <td>NaN</td>\n",
       "      <td>NaN</td>\n",
       "      <td>NaN</td>\n",
       "      <td>Appropriate in length</td>\n",
       "      <td>Neither easy nor difficult</td>\n",
       "      <td>30074.0</td>\n",
       "      <td>NaN</td>\n",
       "      <td>0.001850</td>\n",
       "      <td>10.311416</td>\n",
       "    </tr>\n",
       "    <tr>\n",
       "      <th>379</th>\n",
       "      <td>380</td>\n",
       "      <td>I am a developer by profession</td>\n",
       "      <td>35-44 years old</td>\n",
       "      <td>Employed, full-time</td>\n",
       "      <td>Remote</td>\n",
       "      <td>Apples</td>\n",
       "      <td>Hobby;Bootstrapping a business</td>\n",
       "      <td>Master’s degree</td>\n",
       "      <td>Books / Physical media;Other online resources ...</td>\n",
       "      <td>Technical documentation;Books;Social Media;Wri...</td>\n",
       "      <td>...</td>\n",
       "      <td>0.0</td>\n",
       "      <td>0.0</td>\n",
       "      <td>0.0</td>\n",
       "      <td>0.0</td>\n",
       "      <td>Too long</td>\n",
       "      <td>Difficult</td>\n",
       "      <td>91295.0</td>\n",
       "      <td>10.0</td>\n",
       "      <td>0.005616</td>\n",
       "      <td>11.421851</td>\n",
       "    </tr>\n",
       "    <tr>\n",
       "      <th>385</th>\n",
       "      <td>386</td>\n",
       "      <td>I am a developer by profession</td>\n",
       "      <td>35-44 years old</td>\n",
       "      <td>Independent contractor, freelancer, or self-em...</td>\n",
       "      <td>Remote</td>\n",
       "      <td>Apples</td>\n",
       "      <td>Hobby</td>\n",
       "      <td>Master’s degree</td>\n",
       "      <td>Books / Physical media;On the job training;Oth...</td>\n",
       "      <td>Technical documentation;Blogs;Written Tutorial...</td>\n",
       "      <td>...</td>\n",
       "      <td>NaN</td>\n",
       "      <td>NaN</td>\n",
       "      <td>NaN</td>\n",
       "      <td>NaN</td>\n",
       "      <td>Too short</td>\n",
       "      <td>Easy</td>\n",
       "      <td>53703.0</td>\n",
       "      <td>NaN</td>\n",
       "      <td>0.003303</td>\n",
       "      <td>10.891224</td>\n",
       "    </tr>\n",
       "    <tr>\n",
       "      <th>389</th>\n",
       "      <td>390</td>\n",
       "      <td>I am a developer by profession</td>\n",
       "      <td>25-34 years old</td>\n",
       "      <td>Employed, full-time;Student, part-time</td>\n",
       "      <td>Remote</td>\n",
       "      <td>Apples</td>\n",
       "      <td>Hobby;School or academic work</td>\n",
       "      <td>college/university (no degree)</td>\n",
       "      <td>Books / Physical media;Colleague;On the job tr...</td>\n",
       "      <td>Written Tutorials;Stack Overflow;Coding sessio...</td>\n",
       "      <td>...</td>\n",
       "      <td>5.0</td>\n",
       "      <td>20.0</td>\n",
       "      <td>10.0</td>\n",
       "      <td>5.0</td>\n",
       "      <td>Too long</td>\n",
       "      <td>Easy</td>\n",
       "      <td>110000.0</td>\n",
       "      <td>10.0</td>\n",
       "      <td>0.006766</td>\n",
       "      <td>11.608236</td>\n",
       "    </tr>\n",
       "    <tr>\n",
       "      <th>392</th>\n",
       "      <td>393</td>\n",
       "      <td>I am a developer by profession</td>\n",
       "      <td>35-44 years old</td>\n",
       "      <td>Employed, full-time</td>\n",
       "      <td>Hybrid (some remote, some in-person)</td>\n",
       "      <td>Apples</td>\n",
       "      <td>Hobby;Contribute to open-source projects</td>\n",
       "      <td>Professional</td>\n",
       "      <td>Books / Physical media</td>\n",
       "      <td>NaN</td>\n",
       "      <td>...</td>\n",
       "      <td>10.0</td>\n",
       "      <td>0.0</td>\n",
       "      <td>0.0</td>\n",
       "      <td>5.0</td>\n",
       "      <td>Appropriate in length</td>\n",
       "      <td>Neither easy nor difficult</td>\n",
       "      <td>161044.0</td>\n",
       "      <td>7.0</td>\n",
       "      <td>0.009906</td>\n",
       "      <td>11.989433</td>\n",
       "    </tr>\n",
       "    <tr>\n",
       "      <th>395</th>\n",
       "      <td>396</td>\n",
       "      <td>I am a developer by profession</td>\n",
       "      <td>45-54 years old</td>\n",
       "      <td>Employed, full-time</td>\n",
       "      <td>Remote</td>\n",
       "      <td>Apples</td>\n",
       "      <td>Hobby</td>\n",
       "      <td>Master’s degree</td>\n",
       "      <td>Books / Physical media;On the job training;Oth...</td>\n",
       "      <td>Technical documentation;Blogs;Books;Stack Over...</td>\n",
       "      <td>...</td>\n",
       "      <td>NaN</td>\n",
       "      <td>NaN</td>\n",
       "      <td>NaN</td>\n",
       "      <td>NaN</td>\n",
       "      <td>Appropriate in length</td>\n",
       "      <td>Easy</td>\n",
       "      <td>121018.0</td>\n",
       "      <td>NaN</td>\n",
       "      <td>0.007444</td>\n",
       "      <td>11.703695</td>\n",
       "    </tr>\n",
       "    <tr>\n",
       "      <th>398</th>\n",
       "      <td>399</td>\n",
       "      <td>I am a developer by profession</td>\n",
       "      <td>45-54 years old</td>\n",
       "      <td>Employed, full-time</td>\n",
       "      <td>Remote</td>\n",
       "      <td>Apples</td>\n",
       "      <td>Hobby;Other (please specify):</td>\n",
       "      <td>college/university (no degree)</td>\n",
       "      <td>Books / Physical media;Colleague;On the job tr...</td>\n",
       "      <td>Technical documentation;Blogs;Books;Written Tu...</td>\n",
       "      <td>...</td>\n",
       "      <td>30.0</td>\n",
       "      <td>0.0</td>\n",
       "      <td>0.0</td>\n",
       "      <td>0.0</td>\n",
       "      <td>Appropriate in length</td>\n",
       "      <td>Easy</td>\n",
       "      <td>195000.0</td>\n",
       "      <td>5.0</td>\n",
       "      <td>0.011995</td>\n",
       "      <td>12.180755</td>\n",
       "    </tr>\n",
       "    <tr>\n",
       "      <th>403</th>\n",
       "      <td>404</td>\n",
       "      <td>I am a developer by profession</td>\n",
       "      <td>35-44 years old</td>\n",
       "      <td>Employed, full-time</td>\n",
       "      <td>Remote</td>\n",
       "      <td>Apples</td>\n",
       "      <td>Hobby</td>\n",
       "      <td>college/university (no degree)</td>\n",
       "      <td>Books / Physical media;Other online resources ...</td>\n",
       "      <td>Technical documentation;Blogs;Books;Written Tu...</td>\n",
       "      <td>...</td>\n",
       "      <td>NaN</td>\n",
       "      <td>NaN</td>\n",
       "      <td>NaN</td>\n",
       "      <td>NaN</td>\n",
       "      <td>Too long</td>\n",
       "      <td>Neither easy nor difficult</td>\n",
       "      <td>44586.0</td>\n",
       "      <td>NaN</td>\n",
       "      <td>0.002743</td>\n",
       "      <td>10.705175</td>\n",
       "    </tr>\n",
       "    <tr>\n",
       "      <th>409</th>\n",
       "      <td>410</td>\n",
       "      <td>I am not primarily a developer, but I write co...</td>\n",
       "      <td>55-64 years old</td>\n",
       "      <td>Employed, full-time</td>\n",
       "      <td>In-person</td>\n",
       "      <td>Apples</td>\n",
       "      <td>Hobby;Contribute to open-source projects</td>\n",
       "      <td>Professional</td>\n",
       "      <td>Books / Physical media;Colleague;Other online ...</td>\n",
       "      <td>Technical documentation;Written Tutorials;Stac...</td>\n",
       "      <td>...</td>\n",
       "      <td>NaN</td>\n",
       "      <td>NaN</td>\n",
       "      <td>NaN</td>\n",
       "      <td>NaN</td>\n",
       "      <td>Appropriate in length</td>\n",
       "      <td>Easy</td>\n",
       "      <td>57999.0</td>\n",
       "      <td>NaN</td>\n",
       "      <td>0.003568</td>\n",
       "      <td>10.968181</td>\n",
       "    </tr>\n",
       "  </tbody>\n",
       "</table>\n",
       "<p>10 rows × 116 columns</p>\n",
       "</div>"
      ],
      "text/plain": [
       "     ResponseId                                         MainBranch  \\\n",
       "72           73                     I am a developer by profession   \n",
       "374         375  I am not primarily a developer, but I write co...   \n",
       "379         380                     I am a developer by profession   \n",
       "385         386                     I am a developer by profession   \n",
       "389         390                     I am a developer by profession   \n",
       "392         393                     I am a developer by profession   \n",
       "395         396                     I am a developer by profession   \n",
       "398         399                     I am a developer by profession   \n",
       "403         404                     I am a developer by profession   \n",
       "409         410  I am not primarily a developer, but I write co...   \n",
       "\n",
       "                 Age                                         Employment  \\\n",
       "72   18-24 years old  Employed, full-time;Student, full-time;Indepen...   \n",
       "374  25-34 years old                                Employed, full-time   \n",
       "379  35-44 years old                                Employed, full-time   \n",
       "385  35-44 years old  Independent contractor, freelancer, or self-em...   \n",
       "389  25-34 years old             Employed, full-time;Student, part-time   \n",
       "392  35-44 years old                                Employed, full-time   \n",
       "395  45-54 years old                                Employed, full-time   \n",
       "398  45-54 years old                                Employed, full-time   \n",
       "403  35-44 years old                                Employed, full-time   \n",
       "409  55-64 years old                                Employed, full-time   \n",
       "\n",
       "                               RemoteWork   Check  \\\n",
       "72   Hybrid (some remote, some in-person)  Apples   \n",
       "374  Hybrid (some remote, some in-person)  Apples   \n",
       "379                                Remote  Apples   \n",
       "385                                Remote  Apples   \n",
       "389                                Remote  Apples   \n",
       "392  Hybrid (some remote, some in-person)  Apples   \n",
       "395                                Remote  Apples   \n",
       "398                                Remote  Apples   \n",
       "403                                Remote  Apples   \n",
       "409                             In-person  Apples   \n",
       "\n",
       "                                      CodingActivities  \\\n",
       "72   Hobby;School or academic work;Professional dev...   \n",
       "374  Hobby;School or academic work;Professional dev...   \n",
       "379                     Hobby;Bootstrapping a business   \n",
       "385                                              Hobby   \n",
       "389                      Hobby;School or academic work   \n",
       "392           Hobby;Contribute to open-source projects   \n",
       "395                                              Hobby   \n",
       "398                      Hobby;Other (please specify):   \n",
       "403                                              Hobby   \n",
       "409           Hobby;Contribute to open-source projects   \n",
       "\n",
       "                            EdLevel  \\\n",
       "72                 Secondary school   \n",
       "374                    Professional   \n",
       "379                 Master’s degree   \n",
       "385                 Master’s degree   \n",
       "389  college/university (no degree)   \n",
       "392                    Professional   \n",
       "395                 Master’s degree   \n",
       "398  college/university (no degree)   \n",
       "403  college/university (no degree)   \n",
       "409                    Professional   \n",
       "\n",
       "                                             LearnCode  \\\n",
       "72   On the job training;Other online resources (e....   \n",
       "374  Books / Physical media;Colleague;On the job tr...   \n",
       "379  Books / Physical media;Other online resources ...   \n",
       "385  Books / Physical media;On the job training;Oth...   \n",
       "389  Books / Physical media;Colleague;On the job tr...   \n",
       "392                             Books / Physical media   \n",
       "395  Books / Physical media;On the job training;Oth...   \n",
       "398  Books / Physical media;Colleague;On the job tr...   \n",
       "403  Books / Physical media;Other online resources ...   \n",
       "409  Books / Physical media;Colleague;Other online ...   \n",
       "\n",
       "                                       LearnCodeOnline  ... JobSatPoints_8  \\\n",
       "72   Technical documentation;Blogs;Written Tutorial...  ...          100.0   \n",
       "374  Written Tutorials;Stack Overflow;Written-based...  ...            NaN   \n",
       "379  Technical documentation;Books;Social Media;Wri...  ...            0.0   \n",
       "385  Technical documentation;Blogs;Written Tutorial...  ...            NaN   \n",
       "389  Written Tutorials;Stack Overflow;Coding sessio...  ...            5.0   \n",
       "392                                                NaN  ...           10.0   \n",
       "395  Technical documentation;Blogs;Books;Stack Over...  ...            NaN   \n",
       "398  Technical documentation;Blogs;Books;Written Tu...  ...           30.0   \n",
       "403  Technical documentation;Blogs;Books;Written Tu...  ...            NaN   \n",
       "409  Technical documentation;Written Tutorials;Stac...  ...            NaN   \n",
       "\n",
       "    JobSatPoints_9 JobSatPoints_10 JobSatPoints_11           SurveyLength  \\\n",
       "72           100.0            50.0            90.0               Too long   \n",
       "374            NaN             NaN             NaN  Appropriate in length   \n",
       "379            0.0             0.0             0.0               Too long   \n",
       "385            NaN             NaN             NaN              Too short   \n",
       "389           20.0            10.0             5.0               Too long   \n",
       "392            0.0             0.0             5.0  Appropriate in length   \n",
       "395            NaN             NaN             NaN  Appropriate in length   \n",
       "398            0.0             0.0             0.0  Appropriate in length   \n",
       "403            NaN             NaN             NaN               Too long   \n",
       "409            NaN             NaN             NaN  Appropriate in length   \n",
       "\n",
       "                     SurveyEase ConvertedCompYearly JobSat  \\\n",
       "72                         Easy              7322.0   10.0   \n",
       "374  Neither easy nor difficult             30074.0    NaN   \n",
       "379                   Difficult             91295.0   10.0   \n",
       "385                        Easy             53703.0    NaN   \n",
       "389                        Easy            110000.0   10.0   \n",
       "392  Neither easy nor difficult            161044.0    7.0   \n",
       "395                        Easy            121018.0    NaN   \n",
       "398                        Easy            195000.0    5.0   \n",
       "403  Neither easy nor difficult             44586.0    NaN   \n",
       "409                        Easy             57999.0    NaN   \n",
       "\n",
       "    ConvertedCompYearly_MinMax ConvertedCompYearly_Log  \n",
       "72                    0.000450                8.898639  \n",
       "374                   0.001850               10.311416  \n",
       "379                   0.005616               11.421851  \n",
       "385                   0.003303               10.891224  \n",
       "389                   0.006766               11.608236  \n",
       "392                   0.009906               11.989433  \n",
       "395                   0.007444               11.703695  \n",
       "398                   0.011995               12.180755  \n",
       "403                   0.002743               10.705175  \n",
       "409                   0.003568               10.968181  \n",
       "\n",
       "[10 rows x 116 columns]"
      ]
     },
     "execution_count": 54,
     "metadata": {},
     "output_type": "execute_result"
    }
   ],
   "source": [
    "# Added a new column 'ConvertedCompYearly_Log'\n",
    "df_normalazed_comp['ConvertedCompYearly_Log'] = np.log(df_normalazed_comp['ConvertedCompYearly'])\n",
    "df_normalazed_comp.head(10)"
   ]
  },
  {
   "cell_type": "code",
   "execution_count": 55,
   "metadata": {},
   "outputs": [
    {
     "data": {
      "image/png": "[encoded data removed]",
      "text/plain": [
       "<Figure size 1200x600 with 2 Axes>"
      ]
     },
     "metadata": {},
     "output_type": "display_data"
    }
   ],
   "source": [
    "# Plot the original vs. log-transformed data\n",
    "plt.figure(figsize=(12, 6))\n",
    "plt.subplot(1, 2, 1)\n",
    "df_normalazed_comp['ConvertedCompYearly'].plot(kind='hist', bins=10, title='Original Data')\n",
    "plt.subplot(1, 2, 2)\n",
    "df_normalazed_comp['ConvertedCompYearly_Log'].plot(kind='hist', bins=10, title='Log-Transformed Data')\n",
    "plt.show()"
   ]
  },
  {
   "cell_type": "markdown",
   "metadata": {},
   "source": [
    "# Create a new column `ExperienceLevel` based on the `YearsCodePro` column"
   ]
  },
  {
   "cell_type": "code",
   "execution_count": 56,
   "metadata": {},
   "outputs": [
    {
     "data": {
      "text/html": [
       "<div>\n",
       "<style scoped>\n",
       "    .dataframe tbody tr th:only-of-type {\n",
       "        vertical-align: middle;\n",
       "    }\n",
       "\n",
       "    .dataframe tbody tr th {\n",
       "        vertical-align: top;\n",
       "    }\n",
       "\n",
       "    .dataframe thead th {\n",
       "        text-align: right;\n",
       "    }\n",
       "</style>\n",
       "<table border=\"1\" class=\"dataframe\">\n",
       "  <thead>\n",
       "    <tr style=\"text-align: right;\">\n",
       "      <th></th>\n",
       "      <th>ResponseId</th>\n",
       "      <th>MainBranch</th>\n",
       "      <th>Age</th>\n",
       "      <th>Employment</th>\n",
       "      <th>RemoteWork</th>\n",
       "      <th>Check</th>\n",
       "      <th>CodingActivities</th>\n",
       "      <th>EdLevel</th>\n",
       "      <th>LearnCode</th>\n",
       "      <th>LearnCodeOnline</th>\n",
       "      <th>...</th>\n",
       "      <th>JobSatPoints_9</th>\n",
       "      <th>JobSatPoints_10</th>\n",
       "      <th>JobSatPoints_11</th>\n",
       "      <th>SurveyLength</th>\n",
       "      <th>SurveyEase</th>\n",
       "      <th>ConvertedCompYearly</th>\n",
       "      <th>JobSat</th>\n",
       "      <th>ConvertedCompYearly_MinMax</th>\n",
       "      <th>ConvertedCompYearly_Log</th>\n",
       "      <th>ExperienceLevel</th>\n",
       "    </tr>\n",
       "  </thead>\n",
       "  <tbody>\n",
       "    <tr>\n",
       "      <th>72</th>\n",
       "      <td>73</td>\n",
       "      <td>I am a developer by profession</td>\n",
       "      <td>18-24 years old</td>\n",
       "      <td>Employed, full-time;Student, full-time;Indepen...</td>\n",
       "      <td>Hybrid (some remote, some in-person)</td>\n",
       "      <td>Apples</td>\n",
       "      <td>Hobby;School or academic work;Professional dev...</td>\n",
       "      <td>Secondary school</td>\n",
       "      <td>On the job training;Other online resources (e....</td>\n",
       "      <td>Technical documentation;Blogs;Written Tutorial...</td>\n",
       "      <td>...</td>\n",
       "      <td>100.0</td>\n",
       "      <td>50.0</td>\n",
       "      <td>90.0</td>\n",
       "      <td>Too long</td>\n",
       "      <td>Easy</td>\n",
       "      <td>7322.0</td>\n",
       "      <td>10.0</td>\n",
       "      <td>0.000450</td>\n",
       "      <td>8.898639</td>\n",
       "      <td>Beginner</td>\n",
       "    </tr>\n",
       "    <tr>\n",
       "      <th>374</th>\n",
       "      <td>375</td>\n",
       "      <td>I am not primarily a developer, but I write co...</td>\n",
       "      <td>25-34 years old</td>\n",
       "      <td>Employed, full-time</td>\n",
       "      <td>Hybrid (some remote, some in-person)</td>\n",
       "      <td>Apples</td>\n",
       "      <td>Hobby;School or academic work;Professional dev...</td>\n",
       "      <td>Professional</td>\n",
       "      <td>Books / Physical media;Colleague;On the job tr...</td>\n",
       "      <td>Written Tutorials;Stack Overflow;Written-based...</td>\n",
       "      <td>...</td>\n",
       "      <td>NaN</td>\n",
       "      <td>NaN</td>\n",
       "      <td>NaN</td>\n",
       "      <td>Appropriate in length</td>\n",
       "      <td>Neither easy nor difficult</td>\n",
       "      <td>30074.0</td>\n",
       "      <td>NaN</td>\n",
       "      <td>0.001850</td>\n",
       "      <td>10.311416</td>\n",
       "      <td>Advanced</td>\n",
       "    </tr>\n",
       "    <tr>\n",
       "      <th>379</th>\n",
       "      <td>380</td>\n",
       "      <td>I am a developer by profession</td>\n",
       "      <td>35-44 years old</td>\n",
       "      <td>Employed, full-time</td>\n",
       "      <td>Remote</td>\n",
       "      <td>Apples</td>\n",
       "      <td>Hobby;Bootstrapping a business</td>\n",
       "      <td>Master’s degree</td>\n",
       "      <td>Books / Physical media;Other online resources ...</td>\n",
       "      <td>Technical documentation;Books;Social Media;Wri...</td>\n",
       "      <td>...</td>\n",
       "      <td>0.0</td>\n",
       "      <td>0.0</td>\n",
       "      <td>0.0</td>\n",
       "      <td>Too long</td>\n",
       "      <td>Difficult</td>\n",
       "      <td>91295.0</td>\n",
       "      <td>10.0</td>\n",
       "      <td>0.005616</td>\n",
       "      <td>11.421851</td>\n",
       "      <td>Advanced</td>\n",
       "    </tr>\n",
       "    <tr>\n",
       "      <th>385</th>\n",
       "      <td>386</td>\n",
       "      <td>I am a developer by profession</td>\n",
       "      <td>35-44 years old</td>\n",
       "      <td>Independent contractor, freelancer, or self-em...</td>\n",
       "      <td>Remote</td>\n",
       "      <td>Apples</td>\n",
       "      <td>Hobby</td>\n",
       "      <td>Master’s degree</td>\n",
       "      <td>Books / Physical media;On the job training;Oth...</td>\n",
       "      <td>Technical documentation;Blogs;Written Tutorial...</td>\n",
       "      <td>...</td>\n",
       "      <td>NaN</td>\n",
       "      <td>NaN</td>\n",
       "      <td>NaN</td>\n",
       "      <td>Too short</td>\n",
       "      <td>Easy</td>\n",
       "      <td>53703.0</td>\n",
       "      <td>NaN</td>\n",
       "      <td>0.003303</td>\n",
       "      <td>10.891224</td>\n",
       "      <td>Advanced</td>\n",
       "    </tr>\n",
       "    <tr>\n",
       "      <th>389</th>\n",
       "      <td>390</td>\n",
       "      <td>I am a developer by profession</td>\n",
       "      <td>25-34 years old</td>\n",
       "      <td>Employed, full-time;Student, part-time</td>\n",
       "      <td>Remote</td>\n",
       "      <td>Apples</td>\n",
       "      <td>Hobby;School or academic work</td>\n",
       "      <td>college/university (no degree)</td>\n",
       "      <td>Books / Physical media;Colleague;On the job tr...</td>\n",
       "      <td>Written Tutorials;Stack Overflow;Coding sessio...</td>\n",
       "      <td>...</td>\n",
       "      <td>20.0</td>\n",
       "      <td>10.0</td>\n",
       "      <td>5.0</td>\n",
       "      <td>Too long</td>\n",
       "      <td>Easy</td>\n",
       "      <td>110000.0</td>\n",
       "      <td>10.0</td>\n",
       "      <td>0.006766</td>\n",
       "      <td>11.608236</td>\n",
       "      <td>Advanced</td>\n",
       "    </tr>\n",
       "    <tr>\n",
       "      <th>392</th>\n",
       "      <td>393</td>\n",
       "      <td>I am a developer by profession</td>\n",
       "      <td>35-44 years old</td>\n",
       "      <td>Employed, full-time</td>\n",
       "      <td>Hybrid (some remote, some in-person)</td>\n",
       "      <td>Apples</td>\n",
       "      <td>Hobby;Contribute to open-source projects</td>\n",
       "      <td>Professional</td>\n",
       "      <td>Books / Physical media</td>\n",
       "      <td>NaN</td>\n",
       "      <td>...</td>\n",
       "      <td>0.0</td>\n",
       "      <td>0.0</td>\n",
       "      <td>5.0</td>\n",
       "      <td>Appropriate in length</td>\n",
       "      <td>Neither easy nor difficult</td>\n",
       "      <td>161044.0</td>\n",
       "      <td>7.0</td>\n",
       "      <td>0.009906</td>\n",
       "      <td>11.989433</td>\n",
       "      <td>Advanced</td>\n",
       "    </tr>\n",
       "    <tr>\n",
       "      <th>395</th>\n",
       "      <td>396</td>\n",
       "      <td>I am a developer by profession</td>\n",
       "      <td>45-54 years old</td>\n",
       "      <td>Employed, full-time</td>\n",
       "      <td>Remote</td>\n",
       "      <td>Apples</td>\n",
       "      <td>Hobby</td>\n",
       "      <td>Master’s degree</td>\n",
       "      <td>Books / Physical media;On the job training;Oth...</td>\n",
       "      <td>Technical documentation;Blogs;Books;Stack Over...</td>\n",
       "      <td>...</td>\n",
       "      <td>NaN</td>\n",
       "      <td>NaN</td>\n",
       "      <td>NaN</td>\n",
       "      <td>Appropriate in length</td>\n",
       "      <td>Easy</td>\n",
       "      <td>121018.0</td>\n",
       "      <td>NaN</td>\n",
       "      <td>0.007444</td>\n",
       "      <td>11.703695</td>\n",
       "      <td>Advanced</td>\n",
       "    </tr>\n",
       "    <tr>\n",
       "      <th>398</th>\n",
       "      <td>399</td>\n",
       "      <td>I am a developer by profession</td>\n",
       "      <td>45-54 years old</td>\n",
       "      <td>Employed, full-time</td>\n",
       "      <td>Remote</td>\n",
       "      <td>Apples</td>\n",
       "      <td>Hobby;Other (please specify):</td>\n",
       "      <td>college/university (no degree)</td>\n",
       "      <td>Books / Physical media;Colleague;On the job tr...</td>\n",
       "      <td>Technical documentation;Blogs;Books;Written Tu...</td>\n",
       "      <td>...</td>\n",
       "      <td>0.0</td>\n",
       "      <td>0.0</td>\n",
       "      <td>0.0</td>\n",
       "      <td>Appropriate in length</td>\n",
       "      <td>Easy</td>\n",
       "      <td>195000.0</td>\n",
       "      <td>5.0</td>\n",
       "      <td>0.011995</td>\n",
       "      <td>12.180755</td>\n",
       "      <td>Advanced</td>\n",
       "    </tr>\n",
       "    <tr>\n",
       "      <th>403</th>\n",
       "      <td>404</td>\n",
       "      <td>I am a developer by profession</td>\n",
       "      <td>35-44 years old</td>\n",
       "      <td>Employed, full-time</td>\n",
       "      <td>Remote</td>\n",
       "      <td>Apples</td>\n",
       "      <td>Hobby</td>\n",
       "      <td>college/university (no degree)</td>\n",
       "      <td>Books / Physical media;Other online resources ...</td>\n",
       "      <td>Technical documentation;Blogs;Books;Written Tu...</td>\n",
       "      <td>...</td>\n",
       "      <td>NaN</td>\n",
       "      <td>NaN</td>\n",
       "      <td>NaN</td>\n",
       "      <td>Too long</td>\n",
       "      <td>Neither easy nor difficult</td>\n",
       "      <td>44586.0</td>\n",
       "      <td>NaN</td>\n",
       "      <td>0.002743</td>\n",
       "      <td>10.705175</td>\n",
       "      <td>Advanced</td>\n",
       "    </tr>\n",
       "    <tr>\n",
       "      <th>409</th>\n",
       "      <td>410</td>\n",
       "      <td>I am not primarily a developer, but I write co...</td>\n",
       "      <td>55-64 years old</td>\n",
       "      <td>Employed, full-time</td>\n",
       "      <td>In-person</td>\n",
       "      <td>Apples</td>\n",
       "      <td>Hobby;Contribute to open-source projects</td>\n",
       "      <td>Professional</td>\n",
       "      <td>Books / Physical media;Colleague;Other online ...</td>\n",
       "      <td>Technical documentation;Written Tutorials;Stac...</td>\n",
       "      <td>...</td>\n",
       "      <td>NaN</td>\n",
       "      <td>NaN</td>\n",
       "      <td>NaN</td>\n",
       "      <td>Appropriate in length</td>\n",
       "      <td>Easy</td>\n",
       "      <td>57999.0</td>\n",
       "      <td>NaN</td>\n",
       "      <td>0.003568</td>\n",
       "      <td>10.968181</td>\n",
       "      <td>Advanced</td>\n",
       "    </tr>\n",
       "  </tbody>\n",
       "</table>\n",
       "<p>10 rows × 117 columns</p>\n",
       "</div>"
      ],
      "text/plain": [
       "     ResponseId                                         MainBranch  \\\n",
       "72           73                     I am a developer by profession   \n",
       "374         375  I am not primarily a developer, but I write co...   \n",
       "379         380                     I am a developer by profession   \n",
       "385         386                     I am a developer by profession   \n",
       "389         390                     I am a developer by profession   \n",
       "392         393                     I am a developer by profession   \n",
       "395         396                     I am a developer by profession   \n",
       "398         399                     I am a developer by profession   \n",
       "403         404                     I am a developer by profession   \n",
       "409         410  I am not primarily a developer, but I write co...   \n",
       "\n",
       "                 Age                                         Employment  \\\n",
       "72   18-24 years old  Employed, full-time;Student, full-time;Indepen...   \n",
       "374  25-34 years old                                Employed, full-time   \n",
       "379  35-44 years old                                Employed, full-time   \n",
       "385  35-44 years old  Independent contractor, freelancer, or self-em...   \n",
       "389  25-34 years old             Employed, full-time;Student, part-time   \n",
       "392  35-44 years old                                Employed, full-time   \n",
       "395  45-54 years old                                Employed, full-time   \n",
       "398  45-54 years old                                Employed, full-time   \n",
       "403  35-44 years old                                Employed, full-time   \n",
       "409  55-64 years old                                Employed, full-time   \n",
       "\n",
       "                               RemoteWork   Check  \\\n",
       "72   Hybrid (some remote, some in-person)  Apples   \n",
       "374  Hybrid (some remote, some in-person)  Apples   \n",
       "379                                Remote  Apples   \n",
       "385                                Remote  Apples   \n",
       "389                                Remote  Apples   \n",
       "392  Hybrid (some remote, some in-person)  Apples   \n",
       "395                                Remote  Apples   \n",
       "398                                Remote  Apples   \n",
       "403                                Remote  Apples   \n",
       "409                             In-person  Apples   \n",
       "\n",
       "                                      CodingActivities  \\\n",
       "72   Hobby;School or academic work;Professional dev...   \n",
       "374  Hobby;School or academic work;Professional dev...   \n",
       "379                     Hobby;Bootstrapping a business   \n",
       "385                                              Hobby   \n",
       "389                      Hobby;School or academic work   \n",
       "392           Hobby;Contribute to open-source projects   \n",
       "395                                              Hobby   \n",
       "398                      Hobby;Other (please specify):   \n",
       "403                                              Hobby   \n",
       "409           Hobby;Contribute to open-source projects   \n",
       "\n",
       "                            EdLevel  \\\n",
       "72                 Secondary school   \n",
       "374                    Professional   \n",
       "379                 Master’s degree   \n",
       "385                 Master’s degree   \n",
       "389  college/university (no degree)   \n",
       "392                    Professional   \n",
       "395                 Master’s degree   \n",
       "398  college/university (no degree)   \n",
       "403  college/university (no degree)   \n",
       "409                    Professional   \n",
       "\n",
       "                                             LearnCode  \\\n",
       "72   On the job training;Other online resources (e....   \n",
       "374  Books / Physical media;Colleague;On the job tr...   \n",
       "379  Books / Physical media;Other online resources ...   \n",
       "385  Books / Physical media;On the job training;Oth...   \n",
       "389  Books / Physical media;Colleague;On the job tr...   \n",
       "392                             Books / Physical media   \n",
       "395  Books / Physical media;On the job training;Oth...   \n",
       "398  Books / Physical media;Colleague;On the job tr...   \n",
       "403  Books / Physical media;Other online resources ...   \n",
       "409  Books / Physical media;Colleague;Other online ...   \n",
       "\n",
       "                                       LearnCodeOnline  ... JobSatPoints_9  \\\n",
       "72   Technical documentation;Blogs;Written Tutorial...  ...          100.0   \n",
       "374  Written Tutorials;Stack Overflow;Written-based...  ...            NaN   \n",
       "379  Technical documentation;Books;Social Media;Wri...  ...            0.0   \n",
       "385  Technical documentation;Blogs;Written Tutorial...  ...            NaN   \n",
       "389  Written Tutorials;Stack Overflow;Coding sessio...  ...           20.0   \n",
       "392                                                NaN  ...            0.0   \n",
       "395  Technical documentation;Blogs;Books;Stack Over...  ...            NaN   \n",
       "398  Technical documentation;Blogs;Books;Written Tu...  ...            0.0   \n",
       "403  Technical documentation;Blogs;Books;Written Tu...  ...            NaN   \n",
       "409  Technical documentation;Written Tutorials;Stac...  ...            NaN   \n",
       "\n",
       "    JobSatPoints_10  JobSatPoints_11           SurveyLength  \\\n",
       "72             50.0             90.0               Too long   \n",
       "374             NaN              NaN  Appropriate in length   \n",
       "379             0.0              0.0               Too long   \n",
       "385             NaN              NaN              Too short   \n",
       "389            10.0              5.0               Too long   \n",
       "392             0.0              5.0  Appropriate in length   \n",
       "395             NaN              NaN  Appropriate in length   \n",
       "398             0.0              0.0  Appropriate in length   \n",
       "403             NaN              NaN               Too long   \n",
       "409             NaN              NaN  Appropriate in length   \n",
       "\n",
       "                     SurveyEase ConvertedCompYearly JobSat  \\\n",
       "72                         Easy              7322.0   10.0   \n",
       "374  Neither easy nor difficult             30074.0    NaN   \n",
       "379                   Difficult             91295.0   10.0   \n",
       "385                        Easy             53703.0    NaN   \n",
       "389                        Easy            110000.0   10.0   \n",
       "392  Neither easy nor difficult            161044.0    7.0   \n",
       "395                        Easy            121018.0    NaN   \n",
       "398                        Easy            195000.0    5.0   \n",
       "403  Neither easy nor difficult             44586.0    NaN   \n",
       "409                        Easy             57999.0    NaN   \n",
       "\n",
       "    ConvertedCompYearly_MinMax ConvertedCompYearly_Log ExperienceLevel  \n",
       "72                    0.000450                8.898639        Beginner  \n",
       "374                   0.001850               10.311416        Advanced  \n",
       "379                   0.005616               11.421851        Advanced  \n",
       "385                   0.003303               10.891224        Advanced  \n",
       "389                   0.006766               11.608236        Advanced  \n",
       "392                   0.009906               11.989433        Advanced  \n",
       "395                   0.007444               11.703695        Advanced  \n",
       "398                   0.011995               12.180755        Advanced  \n",
       "403                   0.002743               10.705175        Advanced  \n",
       "409                   0.003568               10.968181        Advanced  \n",
       "\n",
       "[10 rows x 117 columns]"
      ]
     },
     "execution_count": 56,
     "metadata": {},
     "output_type": "execute_result"
    }
   ],
   "source": [
    "df_normalazed_comp['YearsCodePro'] = pd.to_numeric(df_normalazed_comp['YearsCodePro'], errors='coerce')\n",
    "# Function to assign Experience Level based on YearsCodePro\n",
    "def assign_experience_level(years):\n",
    "    if pd.isna(years):  \n",
    "        return 'Unknown'\n",
    "    elif years <= 2:\n",
    "        return 'Beginner'\n",
    "    elif 3 <= years <= 5:\n",
    "        return 'Intermediate'\n",
    "    else:\n",
    "        return 'Advanced'\n",
    "\n",
    "df_normalazed_comp['ExperienceLevel'] = df_normalazed_comp['YearsCodePro'].apply(assign_experience_level)\n",
    "df_normalazed_comp.head(10)"
   ]
  },
  {
   "cell_type": "markdown",
   "metadata": {},
   "source": [
    "### Task 1: Visualizing Data Composition with Pie Charts\n"
   ]
  },
  {
   "cell_type": "markdown",
   "metadata": {},
   "source": [
    "##### 1.1 Create a Pie Chart of the Top 5 Databases Respondents Want to Work With\n"
   ]
  },
  {
   "cell_type": "markdown",
   "metadata": {},
   "source": [
    "In the survey data, the `DatabaseWantToWorkWith` column lists the databases that respondents wish to work with. Let’s visualize the top 5 most-desired databases in a pie chart.\n",
    "\n"
   ]
  },
  {
   "cell_type": "code",
   "execution_count": 5,
   "metadata": {},
   "outputs": [
    {
     "data": {
      "text/plain": [
       "(42558, 114)"
      ]
     },
     "execution_count": 5,
     "metadata": {},
     "output_type": "execute_result"
    }
   ],
   "source": [
    "db = df.dropna(subset=['DatabaseWantToWorkWith']) \n",
    "db.shape"
   ]
  },
  {
   "cell_type": "code",
   "execution_count": 6,
   "metadata": {},
   "outputs": [
    {
     "name": "stderr",
     "output_type": "stream",
     "text": [
      "C:\\Users\\borod\\AppData\\Local\\Temp\\ipykernel_2024\\213521770.py:1: SettingWithCopyWarning: \n",
      "A value is trying to be set on a copy of a slice from a DataFrame.\n",
      "Try using .loc[row_indexer,col_indexer] = value instead\n",
      "\n",
      "See the caveats in the documentation: https://pandas.pydata.org/pandas-docs/stable/user_guide/indexing.html#returning-a-view-versus-a-copy\n",
      "  db['DatabaseWantToWorkWith'] = db['DatabaseWantToWorkWith'].str.split(';')\n"
     ]
    }
   ],
   "source": [
    "db['DatabaseWantToWorkWith'] = db['DatabaseWantToWorkWith'].str.split(';')\n",
    "db_exploded = db.explode('DatabaseWantToWorkWith')"
   ]
  },
  {
   "cell_type": "code",
   "execution_count": 7,
   "metadata": {},
   "outputs": [
    {
     "data": {
      "text/plain": [
       "DatabaseWantToWorkWith\n",
       "PostgreSQL    24005\n",
       "SQLite        13489\n",
       "MySQL         12269\n",
       "MongoDB       10982\n",
       "Redis         10847\n",
       "Name: count, dtype: int64"
      ]
     },
     "execution_count": 7,
     "metadata": {},
     "output_type": "execute_result"
    }
   ],
   "source": [
    "top_databases = db_exploded['DatabaseWantToWorkWith'].value_counts().head(5)\n",
    "top_databases"
   ]
  },
  {
   "cell_type": "code",
   "execution_count": 8,
   "metadata": {},
   "outputs": [
    {
     "data": {
      "image/png": "[encoded data removed]",
      "text/plain": [
       "<Figure size 800x800 with 1 Axes>"
      ]
     },
     "metadata": {},
     "output_type": "display_data"
    }
   ],
   "source": [
    "plt.figure(figsize=(8, 8))\n",
    "colors = plt.cm.Paired.colors  # Use a color palette for distinct segments\n",
    "plt.pie(\n",
    "    top_databases,\n",
    "    labels=top_databases.index,\n",
    "    autopct='%1.1f%%',\n",
    "    startangle=140,\n",
    "    colors=colors\n",
    ")\n",
    "\n",
    "# Add title\n",
    "plt.title('Top 5 Databases Respondents Want to Work With', fontsize=14)\n",
    "plt.axis('equal')  # Equal aspect ratio ensures the pie chart is a circle\n",
    "plt.show()"
   ]
  },
  {
   "cell_type": "code",
   "execution_count": 9,
   "metadata": {},
   "outputs": [
    {
     "data": {
      "text/plain": [
       "(50254, 114)"
      ]
     },
     "execution_count": 9,
     "metadata": {},
     "output_type": "execute_result"
    }
   ],
   "source": [
    "db1 = df.dropna(subset=['DatabaseHaveWorkedWith']) \n",
    "db1.shape"
   ]
  },
  {
   "cell_type": "code",
   "execution_count": 10,
   "metadata": {},
   "outputs": [
    {
     "name": "stderr",
     "output_type": "stream",
     "text": [
      "C:\\Users\\borod\\AppData\\Local\\Temp\\ipykernel_2024\\3503381656.py:1: SettingWithCopyWarning: \n",
      "A value is trying to be set on a copy of a slice from a DataFrame.\n",
      "Try using .loc[row_indexer,col_indexer] = value instead\n",
      "\n",
      "See the caveats in the documentation: https://pandas.pydata.org/pandas-docs/stable/user_guide/indexing.html#returning-a-view-versus-a-copy\n",
      "  db1['DatabaseHaveWorkedWith'] = db1['DatabaseHaveWorkedWith'].str.split(';')\n"
     ]
    }
   ],
   "source": [
    "db1['DatabaseHaveWorkedWith'] = db1['DatabaseHaveWorkedWith'].str.split(';')\n",
    "db1_exploded = db1.explode('DatabaseHaveWorkedWith')"
   ]
  },
  {
   "cell_type": "code",
   "execution_count": 11,
   "metadata": {},
   "outputs": [
    {
     "data": {
      "text/plain": [
       "DatabaseHaveWorkedWith\n",
       "PostgreSQL              25536\n",
       "MySQL                   21099\n",
       "SQLite                  17365\n",
       "Microsoft SQL Server    13275\n",
       "MongoDB                 13007\n",
       "Redis                   10463\n",
       "MariaDB                  8991\n",
       "Elasticsearch            6533\n",
       "Oracle                   5273\n",
       "Dynamodb                 4138\n",
       "Name: count, dtype: int64"
      ]
     },
     "execution_count": 11,
     "metadata": {},
     "output_type": "execute_result"
    }
   ],
   "source": [
    "top_10_databases = db1_exploded['DatabaseHaveWorkedWith'].value_counts().head(10)\n",
    "top_10_databases"
   ]
  },
  {
   "cell_type": "code",
   "execution_count": 12,
   "metadata": {},
   "outputs": [],
   "source": [
    "top_10_databases_df = top_10_databases.to_frame(name='Count')\n",
    "top_10_databases_df.to_csv(\"D:\\\\My\\\\Юля\\\\Data_Analytics_Ex_Files_\\\\Coursera\\\\Assignments\\\\Capstone Project\\\\Dash1_top_10_DB.csv\")"
   ]
  },
  {
   "cell_type": "markdown",
   "metadata": {},
   "source": [
    "The `DevType` column lists the developer types for respondents. We’ll examine the distribution by showing the top 5 developer roles in a pie chart.\n",
    "\n"
   ]
  },
  {
   "cell_type": "code",
   "execution_count": 13,
   "metadata": {},
   "outputs": [
    {
     "data": {
      "text/plain": [
       "DevType\n",
       "Developer, full-stack                            18260\n",
       "Developer, back-end                               9928\n",
       "Student                                           5102\n",
       "Developer, front-end                              3349\n",
       "Developer, desktop or enterprise applications     2493\n",
       "Name: count, dtype: int64"
      ]
     },
     "execution_count": 13,
     "metadata": {},
     "output_type": "execute_result"
    }
   ],
   "source": [
    "top_5_dev_types = df['DevType'].value_counts().head(5)\n",
    "top_5_dev_types"
   ]
  },
  {
   "cell_type": "code",
   "execution_count": 14,
   "metadata": {},
   "outputs": [
    {
     "data": {
      "image/png": "[encoded data removed]",
      "text/plain": [
       "<Figure size 800x800 with 1 Axes>"
      ]
     },
     "metadata": {},
     "output_type": "display_data"
    }
   ],
   "source": [
    "plt.figure(figsize=(8, 8))\n",
    "colors = plt.cm.Paired.colors  # Use a color palette for distinct segments\n",
    "plt.pie(\n",
    "    top_5_dev_types,\n",
    "    labels=top_5_dev_types.index,\n",
    "    autopct='%1.1f%%',\n",
    "    startangle=140,\n",
    "    colors=colors\n",
    ")\n",
    "\n",
    "# Add title\n",
    "plt.title('Top 5 Developer Roles', fontsize=14)\n",
    "plt.axis('equal')  # Equal aspect ratio ensures the pie chart is a circle\n",
    "plt.show()"
   ]
  },
  {
   "cell_type": "markdown",
   "metadata": {},
   "source": [
    "##### 1.3 Create a pie chart for the operating systems used by respondents for professional use\n"
   ]
  },
  {
   "cell_type": "markdown",
   "metadata": {},
   "source": [
    "The `OpSysProfessional` use column shows the operating systems developers use professionally. Let’s visualize the distribution of the top operating systems in a pie chart.\n",
    "\n"
   ]
  },
  {
   "cell_type": "code",
   "execution_count": null,
   "metadata": {},
   "outputs": [],
   "source": []
  },
  {
   "cell_type": "code",
   "execution_count": 15,
   "metadata": {},
   "outputs": [],
   "source": [
    "df['OpSysProfessional use'] = df['OpSysProfessional use'].str.split(';')\n",
    "db_exploded = df.explode('OpSysProfessional use')"
   ]
  },
  {
   "cell_type": "code",
   "execution_count": 16,
   "metadata": {},
   "outputs": [
    {
     "data": {
      "text/plain": [
       "OpSysProfessional use\n",
       "Windows                              27918\n",
       "MacOS                                18625\n",
       "Ubuntu                               16237\n",
       "Windows Subsystem for Linux (WSL)     9859\n",
       "Debian                                5327\n",
       "Android                               4931\n",
       "Other Linux-based                     4697\n",
       "iOS                                   4280\n",
       "Red Hat                               2858\n",
       "Arch                                  2521\n",
       "Name: count, dtype: int64"
      ]
     },
     "execution_count": 16,
     "metadata": {},
     "output_type": "execute_result"
    }
   ],
   "source": [
    "df_op_sys = db_exploded['OpSysProfessional use'].value_counts().head(10)\n",
    "df_op_sys"
   ]
  },
  {
   "cell_type": "code",
   "execution_count": 17,
   "metadata": {},
   "outputs": [
    {
     "data": {
      "image/png": "[encoded data removed]",
      "text/plain": [
       "<Figure size 800x800 with 1 Axes>"
      ]
     },
     "metadata": {},
     "output_type": "display_data"
    }
   ],
   "source": [
    "plt.figure(figsize=(8, 8))\n",
    "colors = plt.cm.Paired.colors  # Use a color palette for distinct segments\n",
    "plt.pie(\n",
    "    df_op_sys,\n",
    "    labels=df_op_sys.index,\n",
    "    autopct='%1.1f%%',\n",
    "    startangle=140,\n",
    "    colors=colors\n",
    ")\n",
    "\n",
    "# Add title\n",
    "plt.title('Top 10 Operating Systems', fontsize=14)\n",
    "plt.axis('equal')  # Equal aspect ratio ensures the pie chart is a circle\n",
    "plt.show()"
   ]
  },
  {
   "cell_type": "markdown",
   "metadata": {},
   "source": [
    "### Task 2: Additional Visualizations and Comparisons\n"
   ]
  },
  {
   "cell_type": "markdown",
   "metadata": {},
   "source": [
    "##### 2.1 Pie Chart for Top 5 Programming Languages Respondents Have Worked With\n"
   ]
  },
  {
   "cell_type": "markdown",
   "metadata": {},
   "source": [
    "The `LanguageHaveWorkedWith` column contains the programming languages that respondents have experience with. We’ll plot a pie chart to display the composition of the top 5 languages.\n",
    "\n"
   ]
  },
  {
   "cell_type": "code",
   "execution_count": 18,
   "metadata": {},
   "outputs": [
    {
     "data": {
      "text/plain": [
       "(59745, 114)"
      ]
     },
     "execution_count": 18,
     "metadata": {},
     "output_type": "execute_result"
    }
   ],
   "source": [
    "lang = df.dropna(subset=['LanguageHaveWorkedWith'])\n",
    "lang.shape"
   ]
  },
  {
   "cell_type": "code",
   "execution_count": 19,
   "metadata": {},
   "outputs": [
    {
     "name": "stderr",
     "output_type": "stream",
     "text": [
      "C:\\Users\\borod\\AppData\\Local\\Temp\\ipykernel_2024\\32777144.py:1: SettingWithCopyWarning: \n",
      "A value is trying to be set on a copy of a slice from a DataFrame.\n",
      "Try using .loc[row_indexer,col_indexer] = value instead\n",
      "\n",
      "See the caveats in the documentation: https://pandas.pydata.org/pandas-docs/stable/user_guide/indexing.html#returning-a-view-versus-a-copy\n",
      "  lang['LanguageHaveWorkedWith'] = lang['LanguageHaveWorkedWith'].str.split(';')\n"
     ]
    },
    {
     "data": {
      "text/plain": [
       "LanguageHaveWorkedWith\n",
       "JavaScript                 37492\n",
       "HTML/CSS                   31816\n",
       "Python                     30719\n",
       "SQL                        30682\n",
       "TypeScript                 23150\n",
       "Bash/Shell (all shells)    20412\n",
       "Java                       18239\n",
       "C#                         16318\n",
       "C++                        13827\n",
       "C                          12184\n",
       "Name: count, dtype: int64"
      ]
     },
     "execution_count": 19,
     "metadata": {},
     "output_type": "execute_result"
    }
   ],
   "source": [
    "lang['LanguageHaveWorkedWith'] = lang['LanguageHaveWorkedWith'].str.split(';')\n",
    "lang_exploded = lang.explode('LanguageHaveWorkedWith')\n",
    "top_10_lang = lang_exploded['LanguageHaveWorkedWith'].value_counts().head(10)\n",
    "top_10_lang"
   ]
  },
  {
   "cell_type": "code",
   "execution_count": 20,
   "metadata": {},
   "outputs": [],
   "source": [
    "top_10_lang_df = top_10_lang.to_frame(name='LanguageCount')\n"
   ]
  },
  {
   "cell_type": "code",
   "execution_count": 21,
   "metadata": {},
   "outputs": [
    {
     "name": "stdout",
     "output_type": "stream",
     "text": [
      "<class 'pandas.core.frame.DataFrame'>\n"
     ]
    }
   ],
   "source": [
    "print(type(top_10_lang_df))"
   ]
  },
  {
   "cell_type": "code",
   "execution_count": 22,
   "metadata": {},
   "outputs": [],
   "source": [
    "top_10_lang_df.to_csv(\"D:\\\\My\\\\Юля\\\\Data_Analytics_Ex_Files_\\\\Coursera\\\\Assignments\\\\Capstone Project\\\\Dash1_top_10_lang.csv\")"
   ]
  },
  {
   "cell_type": "code",
   "execution_count": 23,
   "metadata": {},
   "outputs": [
    {
     "data": {
      "image/png": "[encoded data removed]",
      "text/plain": [
       "<Figure size 800x800 with 1 Axes>"
      ]
     },
     "metadata": {},
     "output_type": "display_data"
    }
   ],
   "source": [
    "plt.figure(figsize=(8, 8))\n",
    "colors = plt.cm.Paired.colors  # Use a color palette for distinct segments\n",
    "plt.pie(\n",
    "    top_10_lang,\n",
    "    labels= top_10_lang.index,\n",
    "    autopct='%1.1f%%',\n",
    "    startangle=140,\n",
    "    colors=colors\n",
    ")\n",
    "\n",
    "# Add title\n",
    "plt.title('Top 10 Programming Languages', fontsize=14)\n",
    "plt.axis('equal')  # Equal aspect ratio ensures the pie chart is a circle\n",
    "plt.show()"
   ]
  },
  {
   "cell_type": "markdown",
   "metadata": {},
   "source": [
    "##### 2.2 Pie Chart for Top Collaboration Tools used in Professional Use\n"
   ]
  },
  {
   "cell_type": "markdown",
   "metadata": {},
   "source": [
    "Using the `NEWCollabToolsHaveWorkedWith` column, we’ll identify and visualize the top collaboration tools respondents use in their professional work.\n",
    "\n"
   ]
  },
  {
   "cell_type": "code",
   "execution_count": 24,
   "metadata": {},
   "outputs": [
    {
     "data": {
      "text/plain": [
       "NEWCollabToolsHaveWorkedWith\n",
       "Visual Studio Code    42751\n",
       "Visual Studio         17021\n",
       "IntelliJ IDEA         15555\n",
       "Notepad++             13874\n",
       "Vim                   12523\n",
       "Name: count, dtype: int64"
      ]
     },
     "execution_count": 24,
     "metadata": {},
     "output_type": "execute_result"
    }
   ],
   "source": [
    "df['NEWCollabToolsHaveWorkedWith'] = df['NEWCollabToolsHaveWorkedWith'].str.split(';')\n",
    "tool_exploded = df.explode('NEWCollabToolsHaveWorkedWith')\n",
    "top_5_tools = tool_exploded['NEWCollabToolsHaveWorkedWith'].value_counts().head(5)\n",
    "top_5_tools\n"
   ]
  },
  {
   "cell_type": "code",
   "execution_count": 25,
   "metadata": {},
   "outputs": [
    {
     "data": {
      "image/png": "[encoded data removed]",
      "text/plain": [
       "<Figure size 800x800 with 1 Axes>"
      ]
     },
     "metadata": {},
     "output_type": "display_data"
    }
   ],
   "source": [
    "plt.figure(figsize=(8, 8))\n",
    "colors = plt.cm.Paired.colors  # Use a color palette for distinct segments\n",
    "plt.pie(\n",
    "    top_5_tools,\n",
    "    labels=top_5_tools.index,\n",
    "    autopct='%1.1f%%',\n",
    "    startangle=140,\n",
    "    colors=colors\n",
    ")\n",
    "\n",
    "# Add title\n",
    "plt.title('Top 5 Collaboration Tools', fontsize=14)\n",
    "plt.axis('equal')  # Equal aspect ratio ensures the pie chart is a circle\n",
    "plt.show()"
   ]
  },
  {
   "cell_type": "markdown",
   "metadata": {},
   "source": [
    "### Task 3: Analyzing and Interpreting Composition\n"
   ]
  },
  {
   "cell_type": "markdown",
   "metadata": {},
   "source": [
    "In this task, you will create additional pie charts to analyze specific aspects of the survey data. Use `pandas` and `matplotlib` to complete each task and interpret the findings.\n",
    "\n"
   ]
  },
  {
   "cell_type": "markdown",
   "metadata": {},
   "source": [
    "##### 3.1 Pie Chart of `Respondents` Most Admired Programming Languages\n"
   ]
  },
  {
   "cell_type": "markdown",
   "metadata": {},
   "source": [
    "The `LanguageAdmired` column lists the programming languages respondents admire most. Create a pie chart to visualize the top 5 admired languages.\n",
    "\n"
   ]
  },
  {
   "cell_type": "code",
   "execution_count": 26,
   "metadata": {},
   "outputs": [],
   "source": [
    "##Write your code here"
   ]
  },
  {
   "cell_type": "markdown",
   "metadata": {},
   "source": [
    "##### 3.2 Pie Chart of Tools Used for AI Development\n"
   ]
  },
  {
   "cell_type": "markdown",
   "metadata": {},
   "source": [
    "Using the `AIToolCurrently` Using column, create a pie chart to visualize the top 5 tools developers are currently using for AI development.\n",
    "\n"
   ]
  },
  {
   "cell_type": "code",
   "execution_count": 27,
   "metadata": {},
   "outputs": [],
   "source": [
    "##Write your code here"
   ]
  },
  {
   "cell_type": "markdown",
   "metadata": {},
   "source": [
    "##### 3.3 Pie Chart for Preferred Web Frameworks\n"
   ]
  },
  {
   "cell_type": "markdown",
   "metadata": {},
   "source": [
    "The `WebframeWantToWorkWith` column includes web frameworks that respondents are interested in working with. Visualize the top 5 frameworks in a pie chart.\n",
    "\n"
   ]
  },
  {
   "cell_type": "code",
   "execution_count": 28,
   "metadata": {},
   "outputs": [],
   "source": [
    "##Write your code here"
   ]
  },
  {
   "cell_type": "markdown",
   "metadata": {},
   "source": [
    "##### 3.4 Pie Chart for Most Desired Embedded Technologies\n"
   ]
  },
  {
   "cell_type": "markdown",
   "metadata": {},
   "source": [
    "Using the `EmbeddedWantToWorkWith` column, create a pie chart to show the top 5 most desired embedded technologies that respondents wish to work with.\n",
    "\n"
   ]
  },
  {
   "cell_type": "code",
   "execution_count": 29,
   "metadata": {},
   "outputs": [],
   "source": [
    "##Write your code here"
   ]
  },
  {
   "cell_type": "markdown",
   "metadata": {},
   "source": [
    "Additional"
   ]
  },
  {
   "cell_type": "code",
   "execution_count": 30,
   "metadata": {},
   "outputs": [
    {
     "data": {
      "text/plain": [
       "(42366, 114)"
      ]
     },
     "execution_count": 30,
     "metadata": {},
     "output_type": "execute_result"
    }
   ],
   "source": [
    "platf = df.dropna(subset=['PlatformHaveWorkedWith'])\n",
    "platf.shape"
   ]
  },
  {
   "cell_type": "code",
   "execution_count": 31,
   "metadata": {},
   "outputs": [
    {
     "name": "stderr",
     "output_type": "stream",
     "text": [
      "C:\\Users\\borod\\AppData\\Local\\Temp\\ipykernel_2024\\1288410481.py:1: SettingWithCopyWarning: \n",
      "A value is trying to be set on a copy of a slice from a DataFrame.\n",
      "Try using .loc[row_indexer,col_indexer] = value instead\n",
      "\n",
      "See the caveats in the documentation: https://pandas.pydata.org/pandas-docs/stable/user_guide/indexing.html#returning-a-view-versus-a-copy\n",
      "  platf['PlatformHaveWorkedWith'] = platf['PlatformHaveWorkedWith'].str.split(';')\n"
     ]
    },
    {
     "data": {
      "text/plain": [
       "PlatformHaveWorkedWith\n",
       "Amazon Web Services (AWS)    22191\n",
       "Microsoft Azure              12850\n",
       "Google Cloud                 11605\n",
       "Cloudflare                    6974\n",
       "Firebase                      6443\n",
       "Vercel                        5491\n",
       "Digital Ocean                 5409\n",
       "Heroku                        3798\n",
       "Netlify                       3238\n",
       "VMware                        3043\n",
       "Name: count, dtype: int64"
      ]
     },
     "execution_count": 31,
     "metadata": {},
     "output_type": "execute_result"
    }
   ],
   "source": [
    "platf['PlatformHaveWorkedWith'] = platf['PlatformHaveWorkedWith'].str.split(';')\n",
    "platf_exploded = platf.explode('PlatformHaveWorkedWith')\n",
    "top_10_platf = platf_exploded['PlatformHaveWorkedWith'].value_counts().head(10)\n",
    "top_10_platf"
   ]
  },
  {
   "cell_type": "code",
   "execution_count": 32,
   "metadata": {},
   "outputs": [],
   "source": [
    "top_10_platf_df = top_10_platf.to_frame(name='Count')\n",
    "top_10_platf_df.to_csv(\"D:\\\\My\\\\Юля\\\\Data_Analytics_Ex_Files_\\\\Coursera\\\\Assignments\\\\Capstone Project\\\\Dash1_top_10_platf.csv\")"
   ]
  },
  {
   "cell_type": "code",
   "execution_count": 33,
   "metadata": {},
   "outputs": [
    {
     "data": {
      "text/plain": [
       "(45161, 114)"
      ]
     },
     "execution_count": 33,
     "metadata": {},
     "output_type": "execute_result"
    }
   ],
   "source": [
    "web_frame = df.dropna(subset=['WebframeHaveWorkedWith'])\n",
    "web_frame.shape"
   ]
  },
  {
   "cell_type": "code",
   "execution_count": 34,
   "metadata": {},
   "outputs": [
    {
     "name": "stderr",
     "output_type": "stream",
     "text": [
      "C:\\Users\\borod\\AppData\\Local\\Temp\\ipykernel_2024\\1659963702.py:1: SettingWithCopyWarning: \n",
      "A value is trying to be set on a copy of a slice from a DataFrame.\n",
      "Try using .loc[row_indexer,col_indexer] = value instead\n",
      "\n",
      "See the caveats in the documentation: https://pandas.pydata.org/pandas-docs/stable/user_guide/indexing.html#returning-a-view-versus-a-copy\n",
      "  web_frame['WebframeHaveWorkedWith'] = web_frame['WebframeHaveWorkedWith'].str.split(';')\n"
     ]
    },
    {
     "data": {
      "text/plain": [
       "WebframeHaveWorkedWith\n",
       "Node.js         19772\n",
       "React           19167\n",
       "jQuery          10381\n",
       "Next.js          8681\n",
       "Express          8614\n",
       "Angular          8306\n",
       "ASP.NET CORE     8187\n",
       "Vue.js           7483\n",
       "ASP.NET          6265\n",
       "Flask            6245\n",
       "Name: count, dtype: int64"
      ]
     },
     "execution_count": 34,
     "metadata": {},
     "output_type": "execute_result"
    }
   ],
   "source": [
    "web_frame['WebframeHaveWorkedWith'] = web_frame['WebframeHaveWorkedWith'].str.split(';')\n",
    "web_frame_exploded = web_frame.explode('WebframeHaveWorkedWith')\n",
    "top_10_web_frame = web_frame_exploded['WebframeHaveWorkedWith'].value_counts().head(10)\n",
    "top_10_web_frame"
   ]
  },
  {
   "cell_type": "code",
   "execution_count": 35,
   "metadata": {},
   "outputs": [],
   "source": [
    "top_10_web_frame_df = top_10_web_frame.to_frame(name='Count')\n",
    "top_10_web_frame_df.to_csv(\"D:\\\\My\\\\Юля\\\\Data_Analytics_Ex_Files_\\\\Coursera\\\\Assignments\\\\Capstone Project\\\\Dash1_top_10_web_frame.csv\")"
   ]
  },
  {
   "cell_type": "markdown",
   "metadata": {},
   "source": [
    "### Summary\n"
   ]
  },
  {
   "cell_type": "markdown",
   "metadata": {},
   "source": [
    "After completing this lab, you will be able to:\n",
    "- Create pie charts to visualize developer preferences across databases, programming languages, AI tools, and cloud platforms.\n",
    "- Identify trends in technology usage, role distribution, and tool adoption through pie charts.\n",
    "- Analyze and compare data composition across various categories to gain insights into developer preferences.\n",
    "\n",
    "\n"
   ]
  },
  {
   "cell_type": "markdown",
   "metadata": {},
   "source": [
    "## Authors:\n",
    "Ayushi Jain\n"
   ]
  },
  {
   "cell_type": "markdown",
   "metadata": {},
   "source": [
    "### Other Contributors:\n",
    "- Rav Ahuja\n",
    "- Lakshmi Holla\n",
    "- Malika\n"
   ]
  },
  {
   "cell_type": "markdown",
   "metadata": {},
   "source": [
    "Copyright © IBM Corporation. All rights reserved.\n"
   ]
  }
 ],
 "metadata": {
  "kernelspec": {
   "display_name": "base",
   "language": "python",
   "name": "python3"
  },
  "language_info": {
   "codemirror_mode": {
    "name": "ipython",
    "version": 3
   },
   "file_extension": ".py",
   "mimetype": "text/x-python",
   "name": "python",
   "nbconvert_exporter": "python",
   "pygments_lexer": "ipython3",
   "version": "3.11.7"
  },
  "prev_pub_hash": "c9bfb96af6d717f3b7a71610b331a39856d9547d00ab3ac91609054ed40eeb50"
 },
 "nbformat": 4,
 "nbformat_minor": 4
}
